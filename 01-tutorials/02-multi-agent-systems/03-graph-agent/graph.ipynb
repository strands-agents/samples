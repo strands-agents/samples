{
 "cells": [
  {
   "cell_type": "markdown",
   "id": "45c3fc01-9545-48a9-8800-cb430d9c182c",
   "metadata": {},
   "source": [
    "# Building Multi-Agent Systems with Strands Agent Graph\n",
    "\n",
    "## Introduction\n",
    "\n",
    "Multi-agent systems consist of multiple autonomous agents collaborating to solve complex problems through task distribution, specialization, and parallel processing.\n",
    "\n",
    "In this lab, we are building multi-agent systems using the Strands Agent Graph tool. Throughout this notebook, we'll explore how to create, manage, and leverage networks of AI agents to solve complex problems through collaboration.\n",
    "\n",
    "By the end of this notebook, you'll understand how to:\n",
    "- Create different multi-agent topologies (star, mesh, hierarchical)\n",
    "- Send messages between agents\n",
    "- Monitor agent interactions\n",
    "- Design specialized agent networks for different use cases\n",
    "\n",
    "Let's begin our exploration of collaborative AI systems!\n",
    "\n"
   ]
  },
  {
   "cell_type": "markdown",
   "id": "b3f7007d-0f97-40dc-9d12-41aca52a4efb",
   "metadata": {},
   "source": [
    "## Prerequisites\n",
    "\n",
    "- Python 3.10+\n",
    "- AWS account\n",
    "- Anthropic Claude 3.7 enabled on Amazon Bedrock\n",
    "- IAM role with permissions to use Amazon Bedrock \n",
    "- Basic understanding of AI agents and prompt engineering\n",
    "\n"
   ]
  },
  {
   "cell_type": "markdown",
   "id": "929ae7e4-e824-4d19-af6a-680836ff168a",
   "metadata": {},
   "source": [
    "## Setup and Installation\n",
    "\n",
    "First, let's make sure we have the Strands Agents SDK installed with the agent_graph tool.\n",
    "\n"
   ]
  },
  {
   "cell_type": "code",
   "execution_count": null,
   "id": "5058e219-8fb8-4503-8bbf-9e69dd06cf62",
   "metadata": {},
   "outputs": [],
   "source": [
    "!pip install -r requirements.txt"
   ]
  },
  {
   "cell_type": "markdown",
   "id": "f4241ec9-0fe9-41b3-a53a-9a70846a5961",
   "metadata": {},
   "source": [
    "## Importing dependency packages "
   ]
  },
  {
   "cell_type": "code",
   "execution_count": null,
   "id": "8a96c2df-0418-48c5-adcd-7224d3ebddf1",
   "metadata": {},
   "outputs": [],
   "source": [
    "# Now let's import the dependency packages import boto3\n",
    "from strands import Agent\n",
    "from strands_tools import agent_graph"
   ]
  },
  {
   "cell_type": "markdown",
   "id": "04a82ba0-b198-4c12-867c-70b5f928e007",
   "metadata": {},
   "source": [
    "## Understanding Agent Graph Basics\n",
    "\n",
    "Agent Graph allows you to create networks of specialized AI agents that can communicate with each other to solve complex problems. Let's understand the core concepts:\n",
    "\n",
    "- **Graph**: A collection of agents organized in a specific topology\n",
    "- **Nodes**: Individual agents with specific roles and system prompts\n",
    "- **Edges**: Communication paths between agents\n",
    "- **Topologies**: Different network structures (star, mesh, hierarchical)\n",
    "\n"
   ]
  },
  {
   "cell_type": "markdown",
   "id": "b05d2e13-64e5-4027-a52b-dbdf79e38703",
   "metadata": {},
   "source": [
    "## Creating Your First Multi-Agent System - Natural Language Approach\n",
    "\n",
    "The simplest way to interact with Agent Graph is through natural language. Let's create our first agent network using the star topology.\n",
    "\n",
    "Lets get started !"
   ]
  },
  {
   "cell_type": "code",
   "execution_count": null,
   "id": "4817c232-b5f1-4e0e-8650-7383571933d3",
   "metadata": {},
   "outputs": [],
   "source": [
    "# Initialize Strands Agent with agent_graph\n",
    "agent = Agent(tools=[agent_graph])\n",
    "\n",
    "# Create a research team through natural language\n",
    "agent(\n",
    "    \"Create a research team with a coordinator, data analyst, and domain expert in a star topology\"\n",
    ")\n",
    "\n",
    "# Send a task to the team\n",
    "agent(\"Ask the research team to analyze emerging technology adoption in healthcare\")"
   ]
  },
  {
   "cell_type": "code",
   "execution_count": null,
   "id": "2833b6d7-7426-46e2-9ba1-2463956d3e63",
   "metadata": {},
   "outputs": [],
   "source": [
    "# Check status ofthe network\n",
    "agent(\"Show me the status of the research team\")"
   ]
  },
  {
   "cell_type": "code",
   "execution_count": null,
   "id": "da95e812-6c9a-4e1d-b5d1-a2e86162bc03",
   "metadata": {},
   "outputs": [],
   "source": [
    "# Manage the network\n",
    "agent(\"Shut down the research team when they're done\")"
   ]
  },
  {
   "cell_type": "markdown",
   "id": "6153ca3b-d2e8-4714-bec9-f86100f32c13",
   "metadata": {},
   "source": [
    "**Exercise:** Try creating a different team with different roles using natural language. For example, a content creation team with writers and editors.\n"
   ]
  },
  {
   "cell_type": "code",
   "execution_count": null,
   "id": "46e704ca-454e-4aa7-9e5f-a0ca3e0872f3",
   "metadata": {},
   "outputs": [],
   "source": [
    "# Initialize Strands Agent with agent_graph\n",
    "content_creation_agent = Agent(tools=[agent_graph])\n",
    "\n",
    "# Create a research team through natural language\n",
    "content_creation_agent(\n",
    "    \"Create a content creation team with a creative director, editor, and writers in a star topology\"\n",
    ")\n",
    "\n",
    "# Send a task to the team\n",
    "content_creation_agent(\n",
    "    \"Ask the content creation team to write an story about adventure with pirates and buccaneers\"\n",
    ")"
   ]
  },
  {
   "cell_type": "code",
   "execution_count": null,
   "id": "8db3a200",
   "metadata": {},
   "outputs": [],
   "source": [
    "# Manage the network\n",
    "content_creation_agent(\"Shut down the content creation team when they're done\")"
   ]
  }
 ],
 "metadata": {
  "kernelspec": {
   "display_name": "Python 3 (ipykernel)",
   "language": "python",
   "name": "python3"
  },
  "language_info": {
   "codemirror_mode": {
    "name": "ipython",
    "version": 3
   },
   "file_extension": ".py",
   "mimetype": "text/x-python",
   "name": "python",
   "nbconvert_exporter": "python",
   "pygments_lexer": "ipython3",
   "version": "3.12.9"
  }
 },
 "nbformat": 4,
 "nbformat_minor": 5
}
