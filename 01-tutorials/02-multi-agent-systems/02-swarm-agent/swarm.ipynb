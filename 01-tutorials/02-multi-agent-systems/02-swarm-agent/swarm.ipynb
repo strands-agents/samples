{
 "cells": [
  {
   "cell_type": "markdown",
   "metadata": {
    "pycharm": {
     "name": "#%% md\n"
    }
   },
   "source": [
    "# Creating Swarm of agents using Strands Agents"
   ]
  },
  {
   "cell_type": "markdown",
   "metadata": {
    "pycharm": {
     "name": "#%%\n"
    }
   },
   "source": [
    "## Understanding Multi-Agent Systems and Swarm Intelligence\n",
    "\n",
    "An agent swarm is a collection of autonomous AI agents working together to solve complex problems through collaboration. Inspired by natural systems like ant colonies or bird flocks, agent swarms leverage collective intelligence where the combined output exceeds what any single agent could produce. By distributing tasks and sharing information, swarms can tackle complex problems more efficiently and effectively than individual agents working in isolation.\n",
    "\n",
    "Multi-agent systems consist of multiple interacting intelligent agents within an environment. These systems enable:\n",
    "\n",
    "- *Distributed Problem Solving*: Breaking complex tasks into subtasks for parallel processing\n",
    "- *Information Sharing*: Agents exchange insights to build collective knowledge\n",
    "- *Specialization*: Different agents focus on specific aspects of a problem\n",
    "- *Redundancy*: Multiple agents working on similar tasks improve reliability\n",
    "- *Emergent Intelligence*: The system exhibits capabilities beyond those of its individual components\n",
    "\n",
    "Swarm intelligence emphasizes:\n",
    "\n",
    "1. *Decentralized Control*: No single agent directs the entire system\n",
    "2. *Local Interactions*: Agents primarily interact with nearby agents\n",
    "3. *Simple Rules*: Individual agents follow relatively simple behaviors\n",
    "4. *Emergent Complexity*: Complex system behavior emerges from simple agent interactions"
   ]
  },
  {
   "cell_type": "markdown",
   "metadata": {},
   "source": [
    "## 1. Quick Start with Swarm tool"
   ]
  },
  {
   "cell_type": "markdown",
   "metadata": {},
   "source": [
    "The Strands Agents SDK provides a built-in swarm tool that simplifies the implementation of multi-agent systems, offering a quick start for users. This tool implements the shared memory."
   ]
  },
  {
   "cell_type": "code",
   "execution_count": null,
   "metadata": {},
   "outputs": [],
   "source": [
    "!pip install -r requirements.txt"
   ]
  },
  {
   "cell_type": "code",
   "execution_count": null,
   "metadata": {},
   "outputs": [],
   "source": [
    "from strands import Agent\n",
    "from strands_tools import swarm\n",
    "import time"
   ]
  },
  {
   "cell_type": "markdown",
   "metadata": {},
   "source": [
    "### 1.1 Direct tool innvocation"
   ]
  },
  {
   "cell_type": "code",
   "execution_count": null,
   "metadata": {},
   "outputs": [],
   "source": [
    "agent = Agent(tools=[swarm])"
   ]
  },
  {
   "cell_type": "code",
   "execution_count": null,
   "metadata": {},
   "outputs": [],
   "source": [
    "result = agent.tool.swarm(\n",
    "    task=\"Analyze this scientific paper and identify key findings\",\n",
    "    swarm_size=5,\n",
    "    coordination_pattern=\"collaborative\",\n",
    ")"
   ]
  },
  {
   "cell_type": "markdown",
   "metadata": {},
   "source": [
    "Here you can see that the 5 agents built upon others'insights and seek consensus"
   ]
  },
  {
   "cell_type": "code",
   "execution_count": null,
   "metadata": {},
   "outputs": [],
   "source": [
    "result[\"content\"][2:]"
   ]
  },
  {
   "cell_type": "markdown",
   "metadata": {},
   "source": [
    "How about scenarios where you need Competitiveness?  "
   ]
  },
  {
   "cell_type": "code",
   "execution_count": null,
   "metadata": {},
   "outputs": [],
   "source": [
    "result = agent.tool.swarm(\n",
    "    task=\"Analyze this scientific paper and identify key findings\",\n",
    "    swarm_size=5,\n",
    "    coordination_pattern=\"competitive\",\n",
    ")"
   ]
  },
  {
   "cell_type": "code",
   "execution_count": null,
   "metadata": {},
   "outputs": [],
   "source": [
    "result[\"content\"][2:]"
   ]
  },
  {
   "cell_type": "markdown",
   "metadata": {},
   "source": [
    "The swarm implements different collaboration strategies through specialized agent roles:\n",
    "\n",
    "- Collaborative Pattern: Agents build upon others' insights and seek consensus\n",
    "- Competitive Pattern: Agents develop independent solutions and unique perspectives"
   ]
  },
  {
   "cell_type": "markdown",
   "metadata": {
    "vscode": {
     "languageId": "markdown"
    }
   },
   "source": [
    "### 1.2 Natural Language Invocation"
   ]
  },
  {
   "cell_type": "code",
   "execution_count": null,
   "metadata": {},
   "outputs": [],
   "source": [
    "# During initialization\n",
    "agent = Agent(tools=[swarm])\n",
    "\n",
    "# Invocation through natural language\n",
    "result = str(agent(\n",
    "    \"Use a swarm of 4 agents to analyze the current market trend for generative ai based agents.\"\n",
    "))"
   ]
  },
  {
   "cell_type": "code",
   "execution_count": null,
   "metadata": {},
   "outputs": [],
   "source": [
    "print(result)"
   ]
  },
  {
   "cell_type": "markdown",
   "metadata": {},
   "source": [
    "The swarm tool implements a SharedMemory system that serves as a central knowledge repository for all agents in the swarm. This system maintains a thread-safe store where agents can record their contributions with metadata (including agent ID, content, phase, and timestamp). It tracks processing phases, allowing agents to retrieve only current-phase knowledge or access historical information. This shared memory architecture enables concurrent collaboration, maintains contribution history, and ensures smooth information flow between agents—all essential features for effective collective intelligence in a swarm.\n",
    "\n",
    "The full implementation of the swarm tool can be found in the [Strands Tools repository](https://github.com/strands-agents/tools/blob/main/src/strands_tools/swarm.py).\n",
    "\n",
    "Key Parameters\n",
    "- task: The main task to be processed by the swarm\n",
    "- swarm_size: Number of agents in the swarm (1-10)\n",
    "- coordination_pattern: How agents should coordinate\n",
    "  - collaborative: Agents build upon others' insights\n",
    "  - competitive: Agents develop independent solutions\n",
    "- hybrid: Balances cooperation with independent exploration\n",
    "\n",
    "How the Swarm Tool Works\n",
    "1. *Initialization*: Creates a swarm with shared memory and specialized agents\n",
    "2. *Phase Processing*: Agents work in parallel using ThreadPoolExecutor\n",
    "3. *Knowledge Sharing*: Agents store and retrieve information from shared memory\n",
    "4. *Result Collection*: Results from all agents are aggregated and presented\n"
   ]
  },
  {
   "cell_type": "markdown",
   "metadata": {},
   "source": [
    "## 2. Creating a Swarm with Strands Agents"
   ]
  },
  {
   "cell_type": "markdown",
   "metadata": {},
   "source": [
    "Strands Agents SDK allows you to create swarms using existing Agent objects, even when they use different model providers or have different configurations. While various communication architectures are possible (hierarchical, parallel, sequential, and mesh), the following example demonstrates a mesh architecture implementation, which provides a flexible foundation for agent-to-agent communication.\n",
    "\n",
    "### 2.1 Mesh Swarm Architecture"
   ]
  },
  {
   "cell_type": "markdown",
   "metadata": {},
   "source": [
    "<p align=\"center\">\n",
    "    <img src=\"./images/swarm_example.png\">\n",
    "</p>"
   ]
  },
  {
   "cell_type": "markdown",
   "metadata": {},
   "source": [
    "In a mesh architecture, all agents can communicate directly with each other. The following example demonstrates a swarm of specialized agents using mesh communication to solve problems collaboratively:"
   ]
  },
  {
   "cell_type": "code",
   "execution_count": null,
   "metadata": {},
   "outputs": [],
   "source": [
    "# Create specialized agents with different expertise\n",
    "research_agent = Agent(system_prompt=(\"\"\"You are a Research Agent specializing in gathering and analyzing information.\n",
    "Your role in the swarm is to provide factual information and research insights on the topic.\n",
    "You should focus on providing accurate data and identifying key aspects of the problem.\n",
    "When receiving input from other agents, evaluate if their information aligns with your research.\n",
    "\"\"\"), \n",
    "callback_handler=None)\n",
    "\n",
    "creative_agent = Agent(system_prompt=(\"\"\"You are a Creative Agent specializing in generating innovative solutions.\n",
    "Your role in the swarm is to think outside the box and propose creative approaches.\n",
    "You should build upon information from other agents while adding your unique creative perspective.\n",
    "Focus on novel approaches that others might not have considered.\n",
    "\"\"\"), \n",
    "callback_handler=None)\n",
    "\n",
    "critical_agent = Agent(system_prompt=(\"\"\"You are a Critical Agent specializing in analyzing proposals and finding flaws.\n",
    "Your role in the swarm is to evaluate solutions proposed by other agents and identify potential issues.\n",
    "You should carefully examine proposed solutions, find weaknesses or oversights, and suggest improvements.\n",
    "Be constructive in your criticism while ensuring the final solution is robust.\n",
    "\"\"\"), \n",
    "callback_handler=None)\n",
    "\n",
    "summarizer_agent = Agent(system_prompt=\"\"\"You are a Summarizer Agent specializing in synthesizing information.\n",
    "Your role in the swarm is to gather insights from all agents and create a cohesive final solution.\n",
    "You should combine the best ideas and address the criticisms to create a comprehensive response.\n",
    "Focus on creating a clear, actionable summary that addresses the original query effectively.\n",
    "\"\"\")"
   ]
  },
  {
   "cell_type": "markdown",
   "metadata": {},
   "source": [
    "The mesh communication is implemented using a dictionary to track messages between agents:"
   ]
  },
  {
   "cell_type": "code",
   "execution_count": null,
   "metadata": {},
   "outputs": [],
   "source": [
    "# Dictionary to track messages between agents (mesh communication)\n",
    "messages = {\n",
    "    \"research\": [],\n",
    "    \"creative\": [],\n",
    "    \"critical\": [],\n",
    "    \"summarizer\": []\n",
    "}"
   ]
  },
  {
   "cell_type": "markdown",
   "metadata": {},
   "source": [
    "The swarm operates in multiple phases, with each agent first analyzing the problem independently:"
   ]
  },
  {
   "cell_type": "code",
   "execution_count": null,
   "metadata": {},
   "outputs": [],
   "source": [
    "query = \"Generative Ai\""
   ]
  },
  {
   "cell_type": "code",
   "execution_count": null,
   "metadata": {},
   "outputs": [],
   "source": [
    "# Phase 1: Initial analysis by each specialized agent\n",
    "research_result = research_agent(query)\n",
    "time.sleep(30)\n",
    "creative_result = creative_agent(query)\n",
    "time.sleep(30)\n",
    "critical_result = critical_agent(query)"
   ]
  },
  {
   "cell_type": "markdown",
   "metadata": {},
   "source": [
    "After the initial analysis, results are shared with all other agents (mesh communication):"
   ]
  },
  {
   "cell_type": "code",
   "execution_count": null,
   "metadata": {},
   "outputs": [],
   "source": [
    "# Share results with all other agents (mesh communication)\n",
    "messages[\"creative\"].append(f\"From Research Agent: {research_result}\")\n",
    "messages[\"critical\"].append(f\"From Research Agent: {research_result}\")\n",
    "messages[\"summarizer\"].append(f\"From Research Agent: {research_result}\")\n",
    "\n",
    "messages[\"research\"].append(f\"From Creative Agent: {creative_result}\")\n",
    "messages[\"critical\"].append(f\"From Creative Agent: {creative_result}\")\n",
    "messages[\"summarizer\"].append(f\"From Creative Agent: {creative_result}\")\n",
    "\n",
    "messages[\"research\"].append(f\"From Critical Agent: {critical_result}\")\n",
    "messages[\"creative\"].append(f\"From Critical Agent: {critical_result}\")\n",
    "messages[\"summarizer\"].append(f\"From Critical Agent: {critical_result}\")"
   ]
  },
  {
   "cell_type": "markdown",
   "metadata": {},
   "source": [
    "In the second phase, each agent refines their solution based on input from all other agents:"
   ]
  },
  {
   "cell_type": "code",
   "execution_count": null,
   "metadata": {},
   "outputs": [],
   "source": [
    "# Phase 2: Each agent refines based on input from others\n",
    "research_prompt = f\"{query}\\n\\nConsider these messages from other agents:\\n\" + \"\\n\\n\".join(messages[\"research\"])\n",
    "creative_prompt = f\"{query}\\n\\nConsider these messages from other agents:\\n\" + \"\\n\\n\".join(messages[\"creative\"])\n",
    "critical_prompt = f\"{query}\\n\\nConsider these messages from other agents:\\n\" + \"\\n\\n\".join(messages[\"critical\"])\n",
    "\n",
    "refined_research = research_agent(research_prompt)\n",
    "\n",
    "time.sleep(30)\n",
    "\n",
    "refined_creative = creative_agent(creative_prompt)\n",
    "\n",
    "time.sleep(30)\n",
    "\n",
    "refined_critical = critical_agent(critical_prompt)\n",
    "\n",
    "# Share refined results with summarizer\n",
    "messages[\"summarizer\"].append(f\"From Research Agent (Phase 2): {refined_research}\")\n",
    "messages[\"summarizer\"].append(f\"From Creative Agent (Phase 2): {refined_creative}\")\n",
    "messages[\"summarizer\"].append(f\"From Critical Agent (Phase 2): {refined_critical}\")"
   ]
  },
  {
   "cell_type": "markdown",
   "metadata": {},
   "source": [
    "Finally, the summarizer agent synthesizes all inputs into a comprehensive solution:"
   ]
  },
  {
   "cell_type": "code",
   "execution_count": null,
   "metadata": {},
   "outputs": [],
   "source": [
    "# Final phase: Summarizer creates the final solution\n",
    "time.sleep(30)\n",
    "\n",
    "summarizer_prompt = f\"\"\"\n",
    "Original query: {query}\n",
    "\n",
    "Please synthesize the following inputs from all agents into a comprehensive final solution:\n",
    "\n",
    "{\"\\n\\n\".join(messages[\"summarizer\"])}\n",
    "\n",
    "Create a well-structured final answer that incorporates the research findings, \n",
    "creative ideas, and addresses the critical feedback.\n",
    "\"\"\"\n",
    "\n",
    "final_solution = str(summarizer_agent(summarizer_prompt))"
   ]
  },
  {
   "cell_type": "code",
   "execution_count": null,
   "metadata": {},
   "outputs": [],
   "source": [
    "print(final_solution)"
   ]
  },
  {
   "cell_type": "markdown",
   "metadata": {},
   "source": [
    "This mesh architecture enables direct communication between all agents, allowing each agent to share insights with every other agent. The specialized roles (research, creative, critical, and summarizer) work together to produce a comprehensive solution that benefits from multiple perspectives and iterative refinement."
   ]
  },
  {
   "cell_type": "markdown",
   "metadata": {},
   "source": [
    "### 2.2 Implementing Shared Memory"
   ]
  },
  {
   "cell_type": "markdown",
   "metadata": {},
   "source": [
    "While the mesh communication example effectively demonstrates agent collaboration, a shared memory system would enhance the swarm's capabilities by providing:\n",
    "\n",
    "- A centralized knowledge repository for all agents\n",
    "- Automated phase tracking and historical knowledge preservation\n",
    "- Thread-safe concurrent access for improved efficiency\n",
    "- Persistent storage of insights across multiple interactions\n",
    "\n",
    "Extending our mesh swarm example with shared memory would replace the message dictionary with a SharedMemory instance, simplifying the code while enabling more sophisticated knowledge management."
   ]
  },
  {
   "cell_type": "markdown",
   "metadata": {},
   "source": [
    "## When to use Swarm:\n",
    "\n",
    "- For quick, parallel processing of a single complex task\n",
    "- When you need multiple perspectives on the same problem\n",
    "- For tasks that benefit from collective intelligence\n",
    "\n",
    "## Conclusion\n",
    "\n",
    "Multi-agent swarms solve complex problems through collective intelligence. The Strands Agents SDK supports both custom implementations and a built-in swarm tool with shared memory. By distributing tasks across specialized agents and enabling effective communication, swarms achieve better results than single agents working alone. Whether using mesh communication patterns or the swarm tool, developers can create systems where multiple agents work together with defined roles, coordination mechanisms, and knowledge sharing.\n",
    "\n"
   ]
  }
 ],
 "metadata": {
  "kernelspec": {
   "display_name": "Python 3 (ipykernel)",
   "language": "python",
   "name": "python3"
  },
  "language_info": {
   "codemirror_mode": {
    "name": "ipython",
    "version": 3
   },
   "file_extension": ".py",
   "mimetype": "text/x-python",
   "name": "python",
   "nbconvert_exporter": "python",
   "pygments_lexer": "ipython3",
   "version": "3.12.9"
  }
 },
 "nbformat": 4,
 "nbformat_minor": 4
}
