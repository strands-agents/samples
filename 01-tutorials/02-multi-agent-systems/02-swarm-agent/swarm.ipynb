{
 "cells": [
  {
   "cell_type": "markdown",
   "metadata": {
    "pycharm": {
     "name": "#%% md\n"
    }
   },
   "source": [
    "# Creating Swarm of agents using Strands Agents"
   ]
  },
  {
   "cell_type": "markdown",
   "metadata": {
    "pycharm": {
     "name": "#%%\n"
    }
   },
   "source": [
    "## Understanding Multi-Agent Systems\n",
    "\n",
    "Multi-agent systems consist of multiple AI agents working together to solve complex problems through collaboration. These systems leverage parallel processing, diverse perspectives, and specialized capabilities.\n",
    "\n",
    "Key characteristics include:\n",
    "\n",
    "- Distributed Problem Solving: Breaking tasks into subtasks for parallel processing\n",
    "- Information Sharing: Agents exchange insights to build collective knowledge\n",
    "- Specialization: Different agents focus on specific aspects of a problem\n",
    "- Redundancy: Multiple agents working on similar tasks improve reliability\n",
    "- Emergent Intelligence: Combined output exceeds what any single agent could produce"
   ]
  },
  {
   "cell_type": "markdown",
   "metadata": {},
   "source": [
    "## The Swarm Tool: Collaborative Intelligence"
   ]
  },
  {
   "cell_type": "markdown",
   "metadata": {},
   "source": [
    "The swarm tool enables multiple agents to work together with shared knowledge. It creates a temporary multi-agent system that processes tasks in parallel, with agents building upon each other's insights. Lets start by simply invoking the swarm tool and observing the output. "
   ]
  },
  {
   "cell_type": "code",
   "execution_count": null,
   "metadata": {},
   "outputs": [],
   "source": [
    "!pip install -r requirements.txt"
   ]
  },
  {
   "cell_type": "code",
   "execution_count": null,
   "metadata": {},
   "outputs": [],
   "source": [
    "from strands import Agent\n",
    "from strands_tools import swarm"
   ]
  },
  {
   "cell_type": "code",
   "execution_count": null,
   "metadata": {},
   "outputs": [],
   "source": [
    "agent = Agent(tools=[swarm])"
   ]
  },
  {
   "cell_type": "code",
   "execution_count": null,
   "metadata": {},
   "outputs": [],
   "source": [
    "result = agent.tool.swarm(\n",
    "    task=\"Analyze this scientific paper and identify key findings\",\n",
    "    swarm_size=5,\n",
    "    coordination_pattern=\"collaborative\",\n",
    ")"
   ]
  },
  {
   "cell_type": "markdown",
   "metadata": {},
   "source": [
    "Here you can see that the 5 agents built upon others'insights and seek consensus"
   ]
  },
  {
   "cell_type": "code",
   "execution_count": null,
   "metadata": {},
   "outputs": [],
   "source": [
    "result[\"content\"][2:]"
   ]
  },
  {
   "cell_type": "markdown",
   "metadata": {},
   "source": [
    "How about scenarios where you need Competitiveness?  "
   ]
  },
  {
   "cell_type": "code",
   "execution_count": null,
   "metadata": {},
   "outputs": [],
   "source": [
    "result = agent.tool.swarm(\n",
    "    task=\"Analyze this scientific paper and identify key findings\",\n",
    "    swarm_size=5,\n",
    "    coordination_pattern=\"competitive\",\n",
    ")"
   ]
  },
  {
   "cell_type": "code",
   "execution_count": null,
   "metadata": {},
   "outputs": [],
   "source": [
    "result[\"content\"][2:]"
   ]
  },
  {
   "cell_type": "markdown",
   "metadata": {},
   "source": [
    "The swarm implements different collaboration strategies through specialized agent roles:\n",
    "\n",
    "- Collaborative Pattern: Agents build upon others' insights and seek consensus\n",
    "- Competitive Pattern: Agents develop independent solutions and unique perspectives\n",
    "- Hybrid Pattern: Balances cooperation with independent exploration"
   ]
  },
  {
   "cell_type": "markdown",
   "metadata": {
    "vscode": {
     "languageId": "markdown"
    }
   },
   "source": [
    "### Natural Language Invocation"
   ]
  },
  {
   "cell_type": "code",
   "execution_count": null,
   "metadata": {},
   "outputs": [],
   "source": [
    "# During initialization\n",
    "agent = Agent(tools=[swarm])\n",
    "\n",
    "# Invocation through natural language\n",
    "result = agent(\n",
    "    \"Use a swarm of 4 agents to analyze the current market trend for generative ai based agents.\"\n",
    ")"
   ]
  },
  {
   "cell_type": "markdown",
   "metadata": {},
   "source": [
    "When to use Swarm:\n",
    "- For quick, parallel processing of a single complex task\n",
    "- When you need multiple perspectives on the same problem\n",
    "- For tasks that benefit from collective intelligence\n"
   ]
  },
  {
   "cell_type": "markdown",
   "metadata": {},
   "source": [
    "For a detailed example highlighting the use of swarm collaboration checkout [finance assistant](../../03-multi-agent-collaboration/01-finance-assistant-swarm-agent/)."
   ]
  },
  {
   "cell_type": "code",
   "execution_count": null,
   "metadata": {},
   "outputs": [],
   "source": []
  },
  {
   "cell_type": "code",
   "execution_count": null,
   "metadata": {},
   "outputs": [],
   "source": []
  }
 ],
 "metadata": {
  "kernelspec": {
   "display_name": "Python 3 (ipykernel)",
   "language": "python",
   "name": "python3"
  },
  "language_info": {
   "codemirror_mode": {
    "name": "ipython",
    "version": 3
   },
   "file_extension": ".py",
   "mimetype": "text/x-python",
   "name": "python",
   "nbconvert_exporter": "python",
   "pygments_lexer": "ipython3",
   "version": "3.9.12"
  }
 },
 "nbformat": 4,
 "nbformat_minor": 1
}
