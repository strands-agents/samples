{
 "cells": [
  {
   "cell_type": "markdown",
   "metadata": {},
   "source": [
    "# AI Companion Assistant with Strands Agents\n",
    "\n",
    "## Overview\n",
    "\n",
    "In this example we will guide you through how to create an AI Companion Assistant using Strands Agents with memory capabilities powered by [Mem0](https://mem0.ai) to provide supportive assistance while maintaining appropriate ethical boundaries. It showcases how to create an AI Companion Assistant that can maintain context across conversations, track progress, and provide evidence-based supportive responses.\n",
    "\n",
    "\n",
    "## Agent Details\n",
    "\n",
    "<div style=\"float: left; margin-right: 20px;\">\n",
    "\n",
    "| Feature            | Description                                |\n",
    "| ------------------ | ------------------------------------------ |\n",
    "| **Tools Used**     | mem0_memory, use_llm                       |\n",
    "| **Complexity**     | Advanced                                   |\n",
    "| **Agent Type**     | Single Agent with Contextual Memory        |\n",
    "| **Interaction**    | Command Line Interface                     |\n",
    "| **Key Focus**      | Supportive Assistance & Progress Tracking  |\n",
    "\n",
    "</div>\n"
   ]
  },
  {
   "cell_type": "markdown",
   "metadata": {},
   "source": [
    "## Key Features\n",
    "\n",
    "* **Memory integration**: Uses Mem0 for storing and retrieving conversation context\n",
    "* **Conversation context**: Maintains history of discussions, coping strategies, and user progress\n",
    "* **Ethical guidelines**: Built-in boundaries and safeguards for responsible AI companion assistance\n",
    "* **Progress tracking**: Ability to recognize patterns and improvements over time"
   ]
  },
  {
   "cell_type": "markdown",
   "metadata": {},
   "source": [
    "### Companionship Response Generation Workflow\n",
    "\n",
    "This example demonstrates a workflow where conversation context is used to generate supportive responses:\n",
    "\n",
    "```\n",
    "┌───────────────┐     ┌─────────────────────────┐     ┌───────────────────────┐\n",
    "│               │     │                         │     │                       │\n",
    "│   User Input  │────▶│Companion Support Context│────▶│  Response Generation  │\n",
    "│               │     │  Analysis & Retrieval   │     │  with Ethical Checks  │\n",
    "│               │     │                         │     │                       │\n",
    "└───────────────┘     └─────────────────────────┘     └─────────┬─────────────┘\n",
    "                                                                │\n",
    "                                                                │\n",
    "                                                                ▼\n",
    "                           ┌──────────────────────────────────────────────────────┐\n",
    "                           │                                                      │\n",
    "                           │  Store Session     List Progress    Retrieve Context │\n",
    "                           │  ┌───────────┐    ┌───────────┐    ┌───────────────┐ │\n",
    "                           │  │           │    │           │    │               │ │\n",
    "                           │  │ mem0()    │    │ mem0()    │    │ mem0()        │ │\n",
    "                           │  │ (store)   │    │ (list)    │    │ (retrieve)    │ │\n",
    "                           │  │           │    │           │    │               │ │\n",
    "                           │  └───────────┘    └───────────┘    └───────┬───────┘ │\n",
    "                           │                                            │         │\n",
    "                           │                                            ▼         │\n",
    "                           │                                      ┌───────────┐   │\n",
    "                           │                                      │           │   │\n",
    "                           │                                      │ use_llm() │   │\n",
    "                           │                                      │           │   │\n",
    "                           │                                      └───────────┘   │\n",
    "                           │                                                      │\n",
    "                           └──────────────────────────────────────────────────────┘\n",
    "```"
   ]
  },
  {
   "cell_type": "markdown",
   "metadata": {},
   "source": [
    "## Setup and prerequisites\n",
    "\n",
    "### Prerequisites\n",
    "\n",
    "* Python 3.10+\n",
    "* Mem0 API key (Sign up at https://app.mem0.ai/)\n",
    "* Environment variables: MEM0_API_KEY\n",
    "\n",
    "Let's now install the requirement packages for our Strands Agent:"
   ]
  },
  {
   "cell_type": "code",
   "execution_count": null,
   "metadata": {},
   "outputs": [],
   "source": [
    "# installing pre-requisites\n",
    "!pip install -r requirements.txt"
   ]
  },
  {
   "cell_type": "markdown",
   "metadata": {},
   "source": [
    "### Importing dependency packages"
   ]
  },
  {
   "cell_type": "code",
   "execution_count": null,
   "metadata": {},
   "outputs": [],
   "source": [
    "# Now let's import the dependency packages:\n",
    "import os\n",
    "import logging\n",
    "from dotenv import load_dotenv\n",
    "\n",
    "from strands import Agent\n",
    "from strands_tools import mem0_memory, use_llm"
   ]
  },
  {
   "cell_type": "markdown",
   "metadata": {},
   "source": [
    "### Setting up environment variables\n",
    "Before creating the agent, we need to set up the environment variables:"
   ]
  },
  {
   "cell_type": "code",
   "execution_count": null,
   "metadata": {},
   "outputs": [],
   "source": [
    "# Load environment variables from .env file if it exists\n",
    "load_dotenv()\n",
    "\n",
    "# Check for Mem0 API key\n",
    "if os.getenv(\"MEM0_API_KEY\") is None:\n",
    "    raise ValueError(\"Set MEM0_API_KEY in your environment variables. You can get one at https://app.mem0.ai/\")\n",
    "\n",
    "# Define a consistent user ID\n",
    "USER_ID = \"companion_user\""
   ]
  },
  {
   "cell_type": "markdown",
   "metadata": {},
   "source": [
    "### Creating the Companion Agent\n",
    "\n",
    "Next, we'll define our AI Companion Assistant with a carefully crafted system prompt that outlines its capabilities, boundaries, and supportive approaches.\n",
    "\n",
    "**Setting agent system prompt:** The system prompt defines what the agent should and should not do:"
   ]
  },
  {
   "cell_type": "code",
   "execution_count": null,
   "metadata": {},
   "outputs": [],
   "source": [
    "# System prompt for the companion agent\n",
    "COMPANION_SYSTEM_PROMPT = f\"\"\"You are an AI companion agent that provides supportive responses while maintaining appropriate boundaries.\n",
    "\n",
    "Capabilities:\n",
    "- Store conversation information using mem0_memory tool (action=\"store\")\n",
    "- Retrieve relevant context from previous conversations (action=\"retrieve\")\n",
    "- Track progress and patterns over time (action=\"list\")\n",
    "- Provide supportive responses using evidence-based techniques\n",
    "\n",
    "Key Rules:\n",
    "- Always include user_id={USER_ID} in tool calls\n",
    "- Maintain professional boundaries\n",
    "- Never claim to be a replacement for professional mental health services\n",
    "- Focus on supportive listening and basic wellbeing techniques\n",
    "- Respect privacy and confidentiality\n",
    "- Provide appropriate disclaimers when necessary\n",
    "- Use evidence-based supportive approaches\n",
    "- Never provide medical advice or diagnosis\n",
    "- Encourage seeking professional help when appropriate\n",
    "- Use empathetic and validating language\n",
    "- Track progress and patterns over time\n",
    "- Remember previous coping strategies discussed\n",
    "- Maintain consistent supportive approach\n",
    "\n",
    "Supportive Approaches:\n",
    "- Active listening\n",
    "- Constructive reflection techniques\n",
    "- Mindfulness exercises\n",
    "- Stress management strategies\n",
    "- Progress tracking\n",
    "- Goal setting\n",
    "- Emotional validation\n",
    "\"\"\""
   ]
  },
  {
   "cell_type": "markdown",
   "metadata": {},
   "source": [
    "### Defining the Agent\n",
    "Now we can create our agent with the system prompt and necessary tools:"
   ]
  },
  {
   "cell_type": "code",
   "execution_count": null,
   "metadata": {},
   "outputs": [],
   "source": [
    "# Create an agent with memory capabilities\n",
    "companion_agent = Agent(\n",
    "    system_prompt=COMPANION_SYSTEM_PROMPT,\n",
    "    tools=[mem0_memory, use_llm],\n",
    ")"
   ]
  },
  {
   "cell_type": "markdown",
   "metadata": {},
   "source": [
    "### Initializing demo data\n",
    "For demonstration purposes, we'll create a function to initialize some sample session data:"
   ]
  },
  {
   "cell_type": "code",
   "execution_count": null,
   "metadata": {},
   "outputs": [],
   "source": [
    "# Initialize some demo conversation data\n",
    "def initialize_demo_conversation():\n",
    "    \"\"\"Initialize some demo conversation data to showcase functionality.\"\"\"\n",
    "    content = \"\"\"User has been experiencing work-related stress. They mentioned difficulty sleeping and increased anxiety before presentations. We discussed deep breathing exercises and progressive muscle relaxation as coping strategies. User expressed interest in mindfulness meditation. They have a supportive family and enjoy outdoor activities for stress relief.\"\"\"\n",
    "    companion_agent.tool.mem0_memory(action=\"store\", content=content, user_id=USER_ID)"
   ]
  },
  {
   "cell_type": "markdown",
   "metadata": {},
   "source": [
    "### Testing the Agent\n",
    "Let's test our companion agent with a couple of interactions:"
   ]
  },
  {
   "cell_type": "code",
   "execution_count": null,
   "metadata": {},
   "outputs": [],
   "source": [
    "# Initialize demo data\n",
    "initialize_demo_conversation()\n",
    "\n",
    "# First interaction\n",
    "results = companion_agent(\"I've been feeling overwhelmed at work lately\")\n",
    "print(\"First interaction response:\")\n",
    "print(results)\n",
    "\n",
    "# Second interaction\n",
    "results = companion_agent(\"I tried the breathing exercise you suggested last time\")\n",
    "print(\"\\nSecond interaction response:\")\n",
    "print(results)"
   ]
  },
  {
   "cell_type": "markdown",
   "metadata": {},
   "source": [
    "### Analyzing the Agent's Behavior\n",
    "Let's examine our agent's responses to understand how it's using memory and following supportive guidelines:"
   ]
  },
  {
   "cell_type": "code",
   "execution_count": null,
   "metadata": {},
   "outputs": [],
   "source": [
    "# Check the messages exchanged\n",
    "print(\"Agent messages:\")\n",
    "print(companion_agent.messages)\n",
    "\n",
    "# Check the metrics from the last interaction\n",
    "print(\"\\nResults metrics:\")\n",
    "print(results.metrics)"
   ]
  },
  {
   "cell_type": "markdown",
   "metadata": {},
   "source": [
    "## Sample Conversation\n",
    "Here's what a sample conversation might look like using this agent:\n",
    "\n",
    "**User:** \"I've been feeling anxious about my upcoming presentation at work.\"\n",
    "\n",
    "**Agent:** [Retrieves past context about work anxiety] \"I remember you mentioned experiencing anxiety before presentations. How are you feeling about this particular presentation? Have you been practicing the deep breathing exercises we discussed previously?\"\n",
    "\n",
    "**User:** \"Yes, the breathing helped a bit, but I'm still worried I'll freeze up.\"\n",
    "\n",
    "**Agent:** [Stores this new information] \"It's good to hear the breathing exercises provided some relief. Anxiety before presentations is common. Would you like to explore some additional strategies that might help with that specific worry about freezing up?\""
   ]
  },
  {
   "cell_type": "markdown",
   "metadata": {},
   "source": [
    "## Important Considerations\n",
    "This example is for demonstration purposes only and has several important limitations:\n",
    "\n",
    "1. This is NOT a replacement for professional mental health services or treatment\n",
    "2. The agent follows basic ethical guidelines but lacks the training and expertise of a human professional\n",
    "3. Memory storage may have privacy implications - in a production environment, additional safeguards would be needed\n",
    "4. The agent cannot recognize or respond appropriately to mental health emergencies"
   ]
  },
  {
   "cell_type": "markdown",
   "metadata": {},
   "source": [
    "## Interactive Usage\n",
    "For interactive usage, you can run this code:"
   ]
  },
  {
   "cell_type": "code",
   "execution_count": null,
   "metadata": {},
   "outputs": [],
   "source": [
    "if __name__ == \"__main__\":\n",
    "    print(\"\\n🧠 AI Companion Assistant 🧠\\n\")\n",
    "    print(\"This is a demonstration of an AI companion assistant.\")\n",
    "    print(\"IMPORTANT: This is not a replacement for professional mental health services.\")\n",
    "    print(\"Please seek professional help for serious mental health concerns.\")\n",
    "    print(\"\\nOptions:\")\n",
    "    print(\"  'demo' - Initialize demo conversation data\")\n",
    "    print(\"  'exit' - Exit the program\")\n",
    "    print(\"\\nOr try these examples:\")\n",
    "    print(\"  - I've been feeling overwhelmed at work lately\")\n",
    "    print(\"  - I tried the breathing exercise you suggested\")\n",
    "    print(\"  - Can you help me with my anxiety?\")\n",
    "    print(\"  - What coping strategies have we discussed?\")\n",
    "\n",
    "    # Interactive loop\n",
    "    while True:\n",
    "        try:\n",
    "            user_input = input(\"\\n> \")\n",
    "\n",
    "            if user_input.lower() == \"exit\":\n",
    "                print(\"\\nTake care! Remember to prioritize your wellbeing. 👋\")\n",
    "                break\n",
    "            elif user_input.lower() == \"demo\":\n",
    "                initialize_demo_conversation()\n",
    "                print(\"\\nDemo conversation data initialized!\")\n",
    "                continue\n",
    "\n",
    "            # Call the companion agent\n",
    "            response = companion_agent(user_input)\n",
    "            # The response is already printed by the agent\n",
    "\n",
    "        except KeyboardInterrupt:\n",
    "            print(\"\\n\\nSession ended. Please take care of yourself.\")\n",
    "            break\n",
    "        except Exception as e:\n",
    "            print(f\"\\nAn error occurred: {str(e)}\")\n",
    "            print(\"Please try a different request.\")"
   ]
  },
  {
   "cell_type": "markdown",
   "metadata": {},
   "source": [
    "## Conclusion\n",
    "In this example, we've demonstrated how to use Strands Agents with memory capabilities to create an AI companion assistant that maintains context across interactions. This approach could be adapted for various applications where maintaining conversation history and context is important."
   ]
  }
 ],
 "metadata": {
  "language_info": {
   "name": "python"
  }
 },
 "nbformat": 4,
 "nbformat_minor": 2
}
