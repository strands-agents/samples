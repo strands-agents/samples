{
 "cells": [
  {
   "cell_type": "code",
   "execution_count": null,
   "metadata": {},
   "outputs": [],
   "source": []
  },
  {
   "cell_type": "markdown",
   "metadata": {},
   "source": [
    "# AI Therapist Assistant with Strands Agents\n",
    "\n",
    "## Overview\n",
    "\n",
    "In this example we will guide you through how to create an AI therapy assistant using Strands Agents with memory capabilities powered by Mem0[mem0.ai](https://mem0.ai) to provide supportive mental health assistance while maintaining appropriate ethical boundaries. It showcases how to create an AI therapy assistant that can maintain context across sessions, track progress, and provide evidence-based therapeutic support.\n",
    "\n",
    "\n",
    "## Agent Details\n",
    "\n",
    "<div style=\"float: left; margin-right: 20px;\">\n",
    "\n",
    "| Feature            | Description                                |\n",
    "| ------------------ | ------------------------------------------ |\n",
    "| **Tools Used**     | mem0_memory, use_llm                       |\n",
    "| **Complexity**     | Advanced                                   |\n",
    "| **Agent Type**     | Single Agent with Therapeutic Memory       |\n",
    "| **Interaction**    | Command Line Interface                     |\n",
    "| **Key Focus**      | Therapeutic Support & Progress Tracking    |\n",
    "\n",
    "</div>\n"
   ]
  },
  {
   "cell_type": "markdown",
   "metadata": {},
   "source": [
    "## Key Features\n",
    "\n",
    "* **Memory integration**: Uses Mem0 for storing and retrieving conversation context\n",
    "* **Therapeutic conversation context**: Maintains history of discussions, coping strategies, and client progress\n",
    "* **Ethical guidelines**: Built-in boundaries and safeguards for responsible AI therapy assistance\n",
    "* **Progress tracking**: Ability to recognize patterns and improvements over time"
   ]
  },
  {
   "cell_type": "markdown",
   "metadata": {},
   "source": [
    "### Therapeutic Response Generation Workflow\n",
    "\n",
    "This example demonstrates a workflow where therapeutic context is used to generate supportive responses:\n",
    "\n",
    "```\n",
    "┌─────────────────┐     ┌─────────────────────────┐     ┌─────────────────────────┐\n",
    "│                 │     │                         │     │                         │\n",
    "│   User Input    │────▶│  Therapeutic Context    │────▶│  Response Generation    │\n",
    "│                 │     │  Analysis & Retrieval   │     │  with Ethical Checks    │\n",
    "│                 │     │                         │     │                         │\n",
    "└─────────────────┘     └─────────────────────────┘     └───────────┬─────────────┘\n",
    "                                                                    │\n",
    "                                                                    │\n",
    "                                                                    ▼\n",
    "                           ┌──────────────────────────────────────────────────────┐\n",
    "                           │                                                      │\n",
    "                           │  Store Session     List Progress    Retrieve Context │\n",
    "                           │  ┌───────────┐    ┌───────────┐    ┌───────────────┐ │\n",
    "                           │  │           │    │           │    │               │ │\n",
    "                           │  │ mem0()    │    │ mem0()    │    │ mem0()        │ │\n",
    "                           │  │ (store)   │    │ (list)    │    │ (retrieve)    │ │\n",
    "                           │  │           │    │           │    │               │ │\n",
    "                           │  └───────────┘    └───────────┘    └───────┬───────┘ │\n",
    "                           │                                            │         │\n",
    "                           │                                            ▼         │\n",
    "                           │                                      ┌───────────┐   │\n",
    "                           │                                      │           │   │\n",
    "                           │                                      │ use_llm() │   │\n",
    "                           │                                      │           │   │\n",
    "                           │                                      └───────────┘   │\n",
    "                           │                                                      │\n",
    "                           └──────────────────────────────────────────────────────┘\n",
    "```"
   ]
  },
  {
   "cell_type": "markdown",
   "metadata": {},
   "source": [
    "## Setup and prerequisites\n",
    "\n",
    "### Prerequisites\n",
    "\n",
    "* Python 3.10+\n",
    "* Mem0 API key (Sign up at https://app.mem0.ai/)\n",
    "* Environment variables: MEM0_API_KEY"
   ]
  },
  {
   "cell_type": "markdown",
   "metadata": {},
   "source": [
    "### Importing dependency packages"
   ]
  },
  {
   "cell_type": "code",
   "execution_count": null,
   "metadata": {},
   "outputs": [],
   "source": [
    "# Now let's import the dependency packages:\n",
    "import os\n",
    "import logging\n",
    "from dotenv import load_dotenv\n",
    "\n",
    "from strands import Agent\n",
    "from strands_tools import mem0_memory, use_llm"
   ]
  },
  {
   "cell_type": "markdown",
   "metadata": {},
   "source": [
    "### Setting up environment variables\n",
    "Before creating the agent, we need to set up the environment variables:"
   ]
  },
  {
   "cell_type": "code",
   "execution_count": null,
   "metadata": {},
   "outputs": [],
   "source": [
    "# Load environment variables from .env file if it exists\n",
    "load_dotenv()\n",
    "\n",
    "# Check for Mem0 API key\n",
    "if os.getenv(\"MEM0_API_KEY\") is None:\n",
    "    raise ValueError(\"Set MEM0_API_KEY in your environment variables. You can get one at https://app.mem0.ai/\")\n",
    "\n",
    "# Define a consistent user ID for our therapy client\n",
    "USER_ID = \"therapy_user\""
   ]
  },
  {
   "cell_type": "markdown",
   "metadata": {},
   "source": [
    "### Creating the Therapy Agent\n",
    "\n",
    "Next, we'll define our AI therapy assistant agent with a carefully crafted system prompt that outlines its capabilities, boundaries, and therapeutic approaches.\n",
    "\n",
    "**Setting agent system prompt:** The system prompt defines what the agent should and should not do:"
   ]
  },
  {
   "cell_type": "code",
   "execution_count": null,
   "metadata": {},
   "outputs": [],
   "source": [
    "# System prompt for the therapy agent\n",
    "THERAPY_SYSTEM_PROMPT = f\"\"\"You are an AI therapy assistant that provides supportive responses while maintaining appropriate boundaries.\n",
    "Capabilities:\n",
    "- Store session information using mem0_memory tool (action=\"store\")\n",
    "- Retrieve relevant context from previous sessions (action=\"retrieve\")\n",
    "- Track progress and patterns over time (action=\"list\")\n",
    "- Provide supportive responses using therapeutic techniques\n",
    "Key Rules:\n",
    "- Always include user_id={USER_ID} in tool calls\n",
    "- Maintain professional boundaries\n",
    "- Never claim to be a replacement for professional therapy\n",
    "- Focus on supportive listening and basic therapeutic techniques\n",
    "- Respect privacy and confidentiality\n",
    "- Provide appropriate disclaimers when necessary\n",
    "- Use evidence-based therapeutic approaches\n",
    "- Never provide medical advice or diagnosis\n",
    "- Encourage seeking professional help when appropriate\n",
    "- Use empathetic and validating language\n",
    "- Track progress and patterns over time\n",
    "- Remember previous coping strategies discussed\n",
    "- Maintain consistent therapeutic approach\n",
    "Therapeutic Approaches:\n",
    "- Active listening\n",
    "- Cognitive behavioral techniques\n",
    "- Mindfulness exercises\n",
    "- Stress management strategies\n",
    "- Progress tracking\n",
    "- Goal setting\n",
    "- Emotional validation\n",
    "\"\"\""
   ]
  },
  {
   "cell_type": "markdown",
   "metadata": {},
   "source": [
    "### Defining the Agent\n",
    "Now we can create our agent with the system prompt and necessary tools:"
   ]
  },
  {
   "cell_type": "code",
   "execution_count": null,
   "metadata": {},
   "outputs": [],
   "source": [
    "# Create an agent with memory capabilities\n",
    "therapist_agent = Agent(\n",
    "    system_prompt=THERAPY_SYSTEM_PROMPT,\n",
    "    tools=[mem0_memory, use_llm],\n",
    ")"
   ]
  },
  {
   "cell_type": "markdown",
   "metadata": {},
   "source": [
    "### Initializing demo data\n",
    "For demonstration purposes, we'll create a function to initialize some sample session data:"
   ]
  },
  {
   "cell_type": "code",
   "execution_count": null,
   "metadata": {},
   "outputs": [],
   "source": [
    "# Initialize some demo session data\n",
    "def initialize_demo_session():\n",
    "    \"\"\"Initialize some demo session data to showcase functionality.\"\"\"\n",
    "    content = \"\"\"Client has been experiencing work-related stress. They mentioned difficulty sleeping and increased anxiety before presentations. We discussed deep breathing exercises and progressive muscle relaxation as coping strategies. Client expressed interest in mindfulness meditation. They have a supportive family and enjoy outdoor activities for stress relief.\"\"\"\n",
    "    therapist_agent.tool.mem0_memory(action=\"store\", content=content, user_id=USER_ID)"
   ]
  },
  {
   "cell_type": "markdown",
   "metadata": {},
   "source": [
    "### Testing the Agent\n",
    "Let's test our therapy agent with a couple of interactions:"
   ]
  },
  {
   "cell_type": "code",
   "execution_count": null,
   "metadata": {},
   "outputs": [],
   "source": [
    "# Initialize demo data\n",
    "initialize_demo_session()\n",
    "\n",
    "# First interaction\n",
    "results = therapist_agent(\"I've been feeling overwhelmed at work lately\")\n",
    "print(\"First interaction response:\")\n",
    "print(results)\n",
    "\n",
    "# Second interaction\n",
    "results = therapist_agent(\"I tried the breathing exercise you suggested last time\")\n",
    "print(\"\\nSecond interaction response:\")\n",
    "print(results)"
   ]
  },
  {
   "cell_type": "markdown",
   "metadata": {},
   "source": [
    "### Analyzing the Agent's Behavior\n",
    "Let's examine our agent's responses to understand how it's using memory and following therapeutic guidelines:"
   ]
  },
  {
   "cell_type": "code",
   "execution_count": null,
   "metadata": {},
   "outputs": [],
   "source": [
    "# Check the messages exchanged\n",
    "print(\"Agent messages:\")\n",
    "print(therapist_agent.messages)\n",
    "\n",
    "# Check the metrics from the last interaction\n",
    "print(\"\\nResults metrics:\")\n",
    "print(results.metrics)"
   ]
  },
  {
   "cell_type": "markdown",
   "metadata": {},
   "source": [
    "## Sample Conversation\n",
    "Here's what a sample therapy conversation might look like using this agent:\n",
    "\n",
    "**User:** \"I've been feeling anxious about my upcoming presentation at work.\"\n",
    "\n",
    "**Agent:** [Retrieves past context about work anxiety] \"I remember you mentioned experiencing anxiety before presentations. How are you feeling about this particular presentation? Have you been practicing the deep breathing exercises we discussed previously?\"\n",
    "\n",
    "**User:** \"Yes, the breathing helped a bit, but I'm still worried I'll freeze up.\"\n",
    "\n",
    "**Agent:** [Stores this new information] \"It's good to hear the breathing exercises provided some relief. Anxiety before presentations is common. Would you like to explore some additional strategies that might help with that specific worry about freezing up?\""
   ]
  },
  {
   "cell_type": "markdown",
   "metadata": {},
   "source": [
    "## Important Considerations\n",
    "This example is for demonstration purposes only and has several important limitations:\n",
    "\n",
    "This is NOT a replacement for professional therapy or mental health treatment\n",
    "The agent follows basic ethical guidelines but lacks the training and expertise of a human therapist\n",
    "Memory storage may have privacy implications - in a production environment, additional safeguards would be needed\n",
    "The agent cannot recognize or respond appropriately to mental health emergencies"
   ]
  },
  {
   "cell_type": "markdown",
   "metadata": {},
   "source": [
    "## Interactive Usage\n",
    "For interactive usage, you can run this code:"
   ]
  },
  {
   "cell_type": "code",
   "execution_count": null,
   "metadata": {},
   "outputs": [],
   "source": [
    "if __name__ == \"__main__\":\n",
    "    print(\"\\n🧠 AI Therapist Assistant 🧠\\n\")\n",
    "    print(\"This is a demonstration of an AI therapy assistant.\")\n",
    "    print(\"IMPORTANT: This is not a replacement for professional therapy.\")\n",
    "    print(\"Please seek professional help for serious mental health concerns.\")\n",
    "    print(\"\\nOptions:\")\n",
    "    print(\"  'demo' - Initialize demo session data\")\n",
    "    print(\"  'exit' - Exit the program\")\n",
    "    print(\"\\nOr try these examples:\")\n",
    "    print(\"  - I've been feeling overwhelmed at work lately\")\n",
    "    print(\"  - I tried the breathing exercise you suggested\")\n",
    "    print(\"  - Can you help me with my anxiety?\")\n",
    "    print(\"  - What coping strategies have we discussed?\")\n",
    "\n",
    "    # Interactive loop\n",
    "    while True:\n",
    "        try:\n",
    "            user_input = input(\"\\n> \")\n",
    "\n",
    "            if user_input.lower() == \"exit\":\n",
    "                print(\"\\nTake care! Remember to prioritize your mental health. 👋\")\n",
    "                break\n",
    "            elif user_input.lower() == \"demo\":\n",
    "                initialize_demo_session()\n",
    "                print(\"\\nDemo session data initialized!\")\n",
    "                continue\n",
    "\n",
    "            # Call the therapist agent\n",
    "            response = therapist_agent(user_input)\n",
    "            # The response is already printed by the agent\n",
    "\n",
    "        except KeyboardInterrupt:\n",
    "            print(\"\\n\\nSession ended. Please take care of yourself.\")\n",
    "            break\n",
    "        except Exception as e:\n",
    "            print(f\"\\nAn error occurred: {str(e)}\")\n",
    "            print(\"Please try a different request.\")"
   ]
  },
  {
   "cell_type": "markdown",
   "metadata": {},
   "source": [
    "## Conclusion\n",
    "In this example, we've demonstrated how to use Strands Agents with memory capabilities to create an AI therapy assistant that maintains context across interactions. This approach could be adapted for various applications where maintaining conversation history and context is important."
   ]
  }
 ],
 "metadata": {
  "language_info": {
   "name": "python"
  }
 },
 "nbformat": 4,
 "nbformat_minor": 2
}
