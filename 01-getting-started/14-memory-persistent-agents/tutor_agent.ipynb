{
 "cells": [
  {
   "cell_type": "markdown",
   "metadata": {},
   "source": [
    "# Personalized Learning Tutor with Strands Agents\n",
    "\n",
    "## Overview\n",
    "\n",
    "In this example we will guide you through how to create an AI tutor using Strands Agents with memory capabilities powered by [Mem0](https://mem0.ai) to provide personalized educational support. This tutor adapts to individual learning styles, tracks educational progress, and delivers customized explanations based on the student's demonstrated understanding.\n",
    "\n",
    "\n",
    "## Agent Details\n",
    "\n",
    "<div style=\"float: left; margin-right: 20px;\">\n",
    "\n",
    "\n",
    "| Feature            | Description                                |\n",
    "| ------------------ | ------------------------------------------ |\n",
    "| **Tools Used**     | mem0_memory, use_llm                       |\n",
    "| **Complexity**     | Advanced                                   |\n",
    "| **Agent Type**     | Single Agent with Learning Memory          |\n",
    "| **Interaction**    | Command Line Interface                     |\n",
    "| **Key Focus**      | Adaptive Learning & Progress Tracking      |\n",
    "\n",
    "</div>\n"
   ]
  },
  {
   "cell_type": "markdown",
   "metadata": {},
   "source": [
    "## Tool Overview\n",
    "\n",
    "The Personalized Tutor Agent utilizes two primary tools:\n",
    "\n",
    "1. **memory**: Enables storing and retrieving learning information with capabilities for:\n",
    "\n",
    "    - Storing learning progress and preferences\n",
    "    - Retrieving relevant learning history\n",
    "    - Tracking concept mastery\n",
    "    - Maintaining learning context\n",
    "\n",
    "2. **use_llm**: Provides educational response generation capabilities for:\n",
    "\n",
    "    - Generating personalized explanations\n",
    "    - Creating relevant examples\n",
    "    - Adapting to learning styles\n",
    "    - Providing constructive feedback"
   ]
  },
  {
   "cell_type": "markdown",
   "metadata": {},
   "source": [
    "## Learning Response Generation Workflow\n",
    "\n",
    "This example demonstrates a workflow where learning context is used to generate personalized educational responses:\n",
    "\n",
    "```\n",
    "┌─────────────────┐     ┌─────────────────────────┐     ┌─────────────────────────┐\n",
    "│                 │     │                         │     │                         │\n",
    "│   Student Input │────▶│  Learning Context       │────▶│  Response Generation    │\n",
    "│                 │     │  Analysis & Retrieval   │     │  with Adaptation        │\n",
    "│                 │     │                         │     │                         │\n",
    "└─────────────────┘     └─────────────────────────┘     └───────────┬─────────────┘\n",
    "                                                                    │\n",
    "                                                                    │\n",
    "                                                                    ▼\n",
    "                           ┌──────────────────────────────────────────────────────┐\n",
    "                           │                                                      │\n",
    "                           │  Store Progress    List Topics     Retrieve Context  │\n",
    "                           │  ┌───────────┐    ┌───────────┐    ┌───────────────┐ │\n",
    "                           │  │           │    │           │    │               │ │\n",
    "                           │  │ mem0()    │    │ mem0()    │    │ mem0()        │ │\n",
    "                           │  │ (store)   │    │ (list)    │    │ (retrieve)    │ │\n",
    "                           │  │           │    │           │    │               │ │\n",
    "                           │  └───────────┘    └───────────┘    └───────┬───────┘ │\n",
    "                           │                                            │         │\n",
    "                           │                                            ▼         │\n",
    "                           │                                      ┌───────────┐   │\n",
    "                           │                                      │           │   │\n",
    "                           │                                      │ use_llm() │   │\n",
    "                           │                                      │           │   │\n",
    "                           │                                      └───────────┘   │\n",
    "                           │                                                      │\n",
    "                           └──────────────────────────────────────────────────────┘\n",
    "```"
   ]
  },
  {
   "cell_type": "markdown",
   "metadata": {},
   "source": [
    "## Setup and prerequisites\n",
    "\n",
    "### Prerequisites\n",
    "\n",
    "* Python 3.10+\n",
    "* Mem0 API key (Sign up at https://app.mem0.ai/)\n",
    "* Environment variables: MEM0_API_KEY\n",
    "\n",
    "Let's now install the requirement packages for our Strands Agent:"
   ]
  },
  {
   "cell_type": "code",
   "execution_count": null,
   "metadata": {},
   "outputs": [],
   "source": [
    "# installing pre-requisites\n",
    "!pip install -r requirements.txt"
   ]
  },
  {
   "cell_type": "markdown",
   "metadata": {},
   "source": [
    "### Importing dependency packages"
   ]
  },
  {
   "cell_type": "code",
   "execution_count": null,
   "metadata": {},
   "outputs": [],
   "source": [
    "# Now let's import the dependency packages:\n",
    "import os\n",
    "import logging\n",
    "from dotenv import load_dotenv\n",
    "\n",
    "from strands import Agent\n",
    "from strands_tools import mem0_memory, use_llm"
   ]
  },
  {
   "cell_type": "markdown",
   "metadata": {},
   "source": [
    "### Setting up environment variables\n",
    "Before creating the agent, we need to set up the environment variables:"
   ]
  },
  {
   "cell_type": "code",
   "execution_count": null,
   "metadata": {},
   "outputs": [],
   "source": [
    "# Load environment variables from .env file if it exists\n",
    "load_dotenv()\n",
    "\n",
    "# Check for Mem0 API key\n",
    "if os.getenv(\"MEM0_API_KEY\") is None:\n",
    "    raise ValueError(\"Set MEM0_API_KEY in your environment variables. You can get one at https://app.mem0.ai/\")\n",
    "\n",
    "# Define a consistent user ID for our student\n",
    "USER_ID = \"student_user\""
   ]
  },
  {
   "cell_type": "markdown",
   "metadata": {},
   "source": [
    "### Creating the Tutor Agent\n",
    "\n",
    "Next, we'll define our AI tutor agent with a carefully crafted system prompt that outlines its capabilities, teaching approaches, and adaptation strategies.\n",
    "\n",
    "**Setting agent system prompt:** The system prompt defines the tutor's capabilities and teaching methods:"
   ]
  },
  {
   "cell_type": "code",
   "execution_count": null,
   "metadata": {},
   "outputs": [],
   "source": [
    "# System prompt for the tutor agent\n",
    "TUTOR_SYSTEM_PROMPT = f\"\"\"You are an AI tutor that provides personalized learning support while adapting to individual learning styles.\n",
    "\n",
    "Capabilities:\n",
    "- Store learning progress using mem0_memory tool (action=\"store\")\n",
    "- Retrieve learning history and preferences (action=\"retrieve\")\n",
    "- Track concept mastery and gaps (action=\"list\")\n",
    "- Provide personalized explanations and examples\n",
    "\n",
    "Key Rules:\n",
    "- Always include user_id={USER_ID} in tool calls\n",
    "- Adapt explanations to student's level\n",
    "- Use clear, step-by-step explanations\n",
    "- Provide relevant examples\n",
    "- Identify and address knowledge gaps\n",
    "- Track learning progress\n",
    "- Maintain consistent teaching approach\n",
    "- Encourage active learning\n",
    "- Provide constructive feedback\n",
    "- Use appropriate technical terminology\n",
    "- Break down complex concepts\n",
    "- Validate understanding\n",
    "- Suggest practice exercises\n",
    "\n",
    "Teaching Approaches:\n",
    "- Concept explanation\n",
    "- Step-by-step problem solving\n",
    "- Interactive examples\n",
    "- Practice problems\n",
    "- Progress assessment\n",
    "- Learning style adaptation\n",
    "- Knowledge gap identification\n",
    "- Concept reinforcement\n",
    "\"\"\""
   ]
  },
  {
   "cell_type": "markdown",
   "metadata": {},
   "source": [
    "### Defining the Agent\n",
    "Now we can create our agent with the system prompt and necessary tools:"
   ]
  },
  {
   "cell_type": "code",
   "execution_count": null,
   "metadata": {},
   "outputs": [],
   "source": [
    "# Create an agent with memory capabilities\n",
    "tutor_agent = Agent(\n",
    "    system_prompt=TUTOR_SYSTEM_PROMPT,\n",
    "    tools=[mem0_memory, use_llm],\n",
    ")"
   ]
  },
  {
   "cell_type": "markdown",
   "metadata": {},
   "source": [
    "### Initializing demo data\n",
    "For demonstration purposes, we'll create a function to initialize some sample learning data:"
   ]
  },
  {
   "cell_type": "code",
   "execution_count": null,
   "metadata": {},
   "outputs": [],
   "source": [
    "# Initialize some demo learning data\n",
    "def initialize_demo_learning():\n",
    "    \"\"\"Initialize some demo learning data to showcase functionality.\"\"\"\n",
    "    content = \"\"\"Student is learning Python programming. They have completed basic syntax and data structures. Currently working on recursion and algorithms. They prefer visual explanations and practical examples. They have shown good understanding of loops and functions but struggle with recursive thinking. They learn best through step-by-step explanations and hands-on practice.\"\"\"\n",
    "    tutor_agent.tool.mem0_memory(action=\"store\", content=content, user_id=USER_ID)"
   ]
  },
  {
   "cell_type": "markdown",
   "metadata": {},
   "source": [
    "### Testing the Agent\n",
    "Let's test our tutor agent with a couple of interactions:"
   ]
  },
  {
   "cell_type": "code",
   "execution_count": null,
   "metadata": {},
   "outputs": [],
   "source": [
    "# Initialize demo data\n",
    "initialize_demo_learning()\n",
    "\n",
    "# First interaction\n",
    "results = tutor_agent(\"I'm having trouble understanding recursion in Python\")\n",
    "print(\"First interaction response:\")\n",
    "print(results)\n",
    "\n",
    "# Second interaction\n",
    "results = tutor_agent(\"Can you give me a simpler example?\")\n",
    "print(\"\\nSecond interaction response:\")\n",
    "print(results)"
   ]
  },
  {
   "cell_type": "markdown",
   "metadata": {},
   "source": [
    "### Analyzing the Agent's Behavior\n",
    "Let's examine our agent's responses to understand how it's using memory and adapting to the student's needs:"
   ]
  },
  {
   "cell_type": "code",
   "execution_count": null,
   "metadata": {},
   "outputs": [],
   "source": [
    "# Check the messages exchanged\n",
    "print(\"Agent messages:\")\n",
    "print(tutor_agent.messages)\n",
    "\n",
    "# Check the metrics from the last interaction\n",
    "print(\"\\nResults metrics:\")\n",
    "print(results.metrics)"
   ]
  },
  {
   "cell_type": "markdown",
   "metadata": {},
   "source": [
    "## Sample Conversation\n",
    "Here's what a sample tutoring conversation might look like using this agent:\n",
    "\n",
    "**Student:** \"I'm having trouble understanding recursion in Python.\"\n",
    "\n",
    "**Agent:** [Retrieves learning history] \"I see you've been working on Python programming and have a good grasp of loops and functions, but recursion has been challenging. Since you prefer visual explanations, let me break down recursion with a practical example...\"\n",
    "\n",
    "**Student:** \"Can you give me a simpler example?\"\n",
    "\n",
    "**Agent:** [Adapts based on feedback] \"Let's try an even simpler visualization. Imagine recursion like Russian nesting dolls. Each doll contains a smaller version of itself until you reach the smallest doll (the base case)...\""
   ]
  },
  {
   "cell_type": "markdown",
   "metadata": {},
   "source": [
    "## Interactive Usage\n",
    "For interactive usage, you can run this code:"
   ]
  },
  {
   "cell_type": "code",
   "execution_count": null,
   "metadata": {},
   "outputs": [],
   "source": [
    "if __name__ == \"__main__\":\n",
    "    print(\"\\n🎓 Personalized Learning Tutor 🎓\\n\")\n",
    "    print(\"This is a demonstration of an AI tutor with adaptive learning capabilities.\")\n",
    "    print(\"The tutor will adapt to your learning style and track your progress.\")\n",
    "    print(\"\\nOptions:\")\n",
    "    print(\"  'demo' - Initialize demo learning data\")\n",
    "    print(\"  'exit' - Exit the program\")\n",
    "    print(\"\\nOr try these examples:\")\n",
    "    print(\"  - I'm having trouble understanding recursion\")\n",
    "    print(\"  - Can you explain this concept differently?\")\n",
    "    print(\"  - I want to practice what we learned\")\n",
    "    print(\"  - What topics should I focus on?\")\n",
    "\n",
    "    # Interactive loop\n",
    "    while True:\n",
    "        try:\n",
    "            user_input = input(\"\\n> \")\n",
    "\n",
    "            if user_input.lower() == \"exit\":\n",
    "                print(\"\\nKeep learning! Remember, practice makes perfect. 👋\")\n",
    "                break\n",
    "            elif user_input.lower() == \"demo\":\n",
    "                initialize_demo_learning()\n",
    "                print(\"\\nDemo session data initialized!\")\n",
    "                continue\n",
    "\n",
    "            # Call the tutor agent\n",
    "            response = tutor_agent(user_input)\n",
    "            # The response is already printed by the agent\n",
    "\n",
    "        except KeyboardInterrupt:\n",
    "            print(\"\\n\\nSession ended. Keep up the good work!\")\n",
    "            break\n",
    "        except Exception as e:\n",
    "            print(f\"\\nAn error occurred: {str(e)}\")\n",
    "            print(\"Please try a different request.\")"
   ]
  },
  {
   "cell_type": "markdown",
   "metadata": {},
   "source": [
    "## Learning Features\n",
    "The tutor agent implements several key educational features:\n",
    "\n",
    "1. Adaptive Learning:\n",
    "\n",
    "- Adjusts explanations based on student's level\n",
    "- Provides relevant examples\n",
    "- Identifies learning gaps\n",
    "\n",
    "\n",
    "2. Progress Tracking:\n",
    "\n",
    "- Monitors understanding of concepts\n",
    "- Tracks completed exercises\n",
    "- Records learning preferences\n",
    "\n",
    "\n",
    "3. Personalized Support:\n",
    "\n",
    "- Customized explanations\n",
    "- Targeted practice problems\n",
    "- Learning style adaptation"
   ]
  },
  {
   "cell_type": "markdown",
   "metadata": {},
   "source": [
    "## Important Considerations\n",
    "This example is for demonstration purposes and has several limitations:\n",
    "\n",
    "1. The agent's educational capabilities are limited compared to human tutors\n",
    "2. The memory storage is simplified and would need more sophisticated tracking for production use\n",
    "3. Advanced educational concepts and complex problem-solving may require additional tools\n",
    "4. Learning assessments are qualitative rather than quantitative"
   ]
  },
  {
   "cell_type": "markdown",
   "metadata": {},
   "source": [
    "## Conclusion\n",
    "In this example, we've demonstrated how to use Strands Agents with memory capabilities to create an AI therapy assistant that maintains context across interactions. This approach could be adapted for various applications where maintaining conversation history and context is important."
   ]
  }
 ],
 "metadata": {
  "language_info": {
   "name": "python"
  }
 },
 "nbformat": 4,
 "nbformat_minor": 2
}
