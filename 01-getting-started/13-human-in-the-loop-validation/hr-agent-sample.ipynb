{
 "cells": [
  {
   "cell_type": "markdown",
   "id": "aa8d05b5-a0c2-4dd6-9d7d-83794f4ace35",
   "metadata": {},
   "source": [
    "# Human Resources Assistant with human-in-the-loop approval process using Strands Agents\n",
    "\n",
    "\n",
    "\n",
    "## Overview\n",
    "In this example we will build a HR onboarding assistant powered by Strands Agents and AWS services. It simulates key components of an automated onboarding process using:\n",
    "\n",
    "- **Strands Agents** to create an agent and tools.\n",
    "- **Amazon DynamoDB** for tracking onboarding task status.\n",
    "- **Amazon Bedrock Knowledge Bases** for storing and querying benefits and onboarding FAQs.\n",
    "- **Human-in-the-loop** (HITL) workflow for HR onboarding approvals or rejections.\n",
    "\n",
    "\n",
    "## Agent Details\n",
    "<div style=\"float: left; margin-right: 20px;\">\n",
    "    \n",
    "|Feature             |Description                                                                          |\n",
    "|--------------------|-------------------------------------------------------------------------------------|\n",
    "|Native tools used   |retrieve                                                                             |\n",
    "|Custom tools created|get_onboarding_status, update_onboarding_status_field, request_approval_status_update|\n",
    "|Agent Structure     |Single agent architecture                                                            |\n",
    "\n",
    "</div>\n"
   ]
  },
  {
   "cell_type": "markdown",
   "id": "8cc2e9a4-5f53-44f1-8b7c-2fcb19bd6ce5",
   "metadata": {},
   "source": [
    "## Architecture\n",
    "\n",
    "<div style=\"text-align:left\">\n",
    "    <img src=\"images/architecture.png\" width=\"100%\" />\n",
    "</div>\n",
    "\n",
    "## Key Features\n",
    "* **Single agent architecture**: this example creates a single agent that interacts with built-in and custom tools\n",
    "* **Bedrock Model as underlying LLM**: Used Anthropic Claude 3.7 from Amazon Bedrock as the underlying LLM model\n",
    "* **Human-in-the-loop approval step**: Adding a human in the loop approval step"
   ]
  },
  {
   "cell_type": "markdown",
   "id": "f0c0b880-2e22-43b9-ad89-32d52b6d176c",
   "metadata": {},
   "source": [
    "## Setup and prerequisites\n",
    "\n",
    "### Prerequisites\n",
    "* Python 3.10+\n",
    "* AWS account\n",
    "* Anthropic Claude 3.7 enabled on Amazon Bedrock\n",
    "* IAM role with permissions to create Amazon Bedrock Knowledge Base, Amazon S3 bucket, Amazon DynamoDB, Amazon SNS, Amazon API Gateway, Amazon OpenSearch Serverless\n",
    "\n",
    "Let's now install the requirement packages for our Strands Agent"
   ]
  },
  {
   "cell_type": "code",
   "execution_count": null,
   "id": "7042ad89-73ba-462d-bc3c-7e67b99db2fe",
   "metadata": {},
   "outputs": [],
   "source": [
    "%pip install -qr requirements.txt"
   ]
  },
  {
   "cell_type": "code",
   "execution_count": null,
   "id": "bd261c0e-7b17-4101-b0cc-b5c8fff99204",
   "metadata": {},
   "outputs": [],
   "source": [
    "import os\n",
    "import json\n",
    "import time\n",
    "import uuid\n",
    "import boto3\n",
    "import pprint\n",
    "import logging\n",
    "import requests"
   ]
  },
  {
   "cell_type": "code",
   "execution_count": null,
   "id": "305d4c93-3cdd-403b-9b91-714a1014b5f9",
   "metadata": {},
   "outputs": [],
   "source": [
    "from datetime import datetime\n",
    "from strands import Agent, tool\n",
    "from strands_tools import retrieve\n",
    "from utils.utils import create_base_infrastructure, create_onboarding_record"
   ]
  },
  {
   "cell_type": "code",
   "execution_count": null,
   "id": "c8505de1-76a2-4b24-afcf-5c471227dee8",
   "metadata": {},
   "outputs": [],
   "source": [
    "sns = boto3.client('sns')\n",
    "s3_client = boto3.client('s3')\n",
    "sts_client = boto3.client('sts')\n",
    "dynamodb_resource = boto3.resource('dynamodb')\n",
    "session = boto3.session.Session()\n",
    "region =  session.region_name\n",
    "account_id = sts_client.get_caller_identity()[\"Account\"]\n",
    "bedrock_agent_runtime_client = boto3.client('bedrock-agent-runtime') \n",
    "logging.basicConfig(format='[%(asctime)s] p%(process)s {%(filename)s:%(lineno)d} %(levelname)s - %(message)s', level=logging.INFO)\n",
    "logger = logging.getLogger(__name__)\n",
    "pp = pprint.PrettyPrinter(indent=2)"
   ]
  },
  {
   "cell_type": "code",
   "execution_count": null,
   "id": "e7b6751f-30fb-4c73-820e-38bee01dbd60",
   "metadata": {},
   "outputs": [],
   "source": [
    "# Get the current timestamp\n",
    "current_time = time.time()\n",
    "# Format the timestamp as a string\n",
    "timestamp_str = time.strftime(\"%Y%m%d%H%M%S\", time.localtime(current_time))[-7:]\n",
    "# Create the suffix using the timestamp\n",
    "suffix = f\"{timestamp_str}\""
   ]
  },
  {
   "cell_type": "markdown",
   "id": "f3689e91-92ef-4a40-acad-f7e4eaaccad2",
   "metadata": {},
   "source": [
    "## Download Amazon Bedrock Knowledge Bases helper"
   ]
  },
  {
   "cell_type": "code",
   "execution_count": null,
   "id": "d23bfa74-ddcb-48d2-9018-0d01f5ceefef",
   "metadata": {},
   "outputs": [],
   "source": [
    "url = \"https://raw.githubusercontent.com/aws-samples/amazon-bedrock-samples/main/rag/knowledge-bases/features-examples/utils/knowledge_base.py\"\n",
    "target_path = \"utils/knowledge_base.py\"\n",
    "response = requests.get(url)\n",
    "with open(target_path, \"w\") as f:\n",
    "    f.write(response.text)\n",
    "print(f\"Downloaded Knowledge Bases utils to {target_path}\")"
   ]
  },
  {
   "cell_type": "code",
   "execution_count": null,
   "id": "9306c9d1-d12b-4da4-ac48-d894037f1d20",
   "metadata": {},
   "outputs": [],
   "source": [
    "from utils.knowledge_base import BedrockKnowledgeBase"
   ]
  },
  {
   "cell_type": "markdown",
   "id": "9f5ea696-a312-4a0f-a25e-02bc683eba46",
   "metadata": {},
   "source": [
    "## Create the infrastructure for the solution\n",
    "We are going to deploy the infrastructure for this solution using an AWS CloudFormation template we have already created. \n",
    "\n",
    "The template will deploy the following:\n",
    "\n",
    "**SNS topic:** A publish-subscribe messaging service for sending notifications about new prompt versions requiring approval.\n",
    "\n",
    "**API Gateway:** A fully managed service for creating, publishing, and securing APIs, used for exposing the approve and reject endpoints.\n",
    "\n",
    "**DynamoDB table:** A NoSQL database for storing prompt metadata, including the prompt text, version, and approval status.\n",
    "\n",
    "**Lambda Functions:**\n",
    "\n",
    "- `TriggerLambdaFunction:` A serverless function triggered by DynamoDB streams to send approval notifications via SNS.\n",
    " \n",
    "- `ApproveLambdaFunction:` A serverless function invoked by the API Gateway to update the prompt version status to \"Approved\" in DynamoDB.\n",
    "\n",
    "- `RejectLambdaFunction:` A serverless function invoked by the API Gateway to update the prompt version status to \"Rejected\" in DynamoDB."
   ]
  },
  {
   "cell_type": "code",
   "execution_count": null,
   "id": "d33a2e4d-37a0-4205-89a9-d8d24d036563",
   "metadata": {},
   "outputs": [],
   "source": [
    "dynamodb_table_name, sns_topic_arn = create_base_infrastructure(f\"hr-agent-\"+suffix)"
   ]
  },
  {
   "cell_type": "markdown",
   "id": "c37ebd8f-7968-4adb-b181-382bdc93b73f",
   "metadata": {},
   "source": [
    "We now have our base infrastructure set up. We will use the created resources later."
   ]
  },
  {
   "cell_type": "markdown",
   "id": "09282a2c-eca2-4fc4-ab73-6e5dad75799b",
   "metadata": {},
   "source": [
    "---"
   ]
  },
  {
   "cell_type": "markdown",
   "id": "df2a649d-de52-4a74-bf48-e0a119fdb173",
   "metadata": {},
   "source": [
    "## Create Amazon Bedrock Knowledge Base\n",
    "In this section we will configure the Amazon Bedrock Knowledge Base containing the policy documents andn FAQs for employee onboarding. We will be using Amazon Opensearch Serverless Service as the underlying vector store and Amazon S3 as the data source containing the files."
   ]
  },
  {
   "cell_type": "code",
   "execution_count": null,
   "id": "577a42c4-9831-4e5a-b4b2-010a90aa97f8",
   "metadata": {},
   "outputs": [],
   "source": [
    "knowledge_base_name = f\"hr-agent-knowledge-base-{suffix}\"\n",
    "knowledge_base_description = \"HR Agent Knowledge Base containing onboarding and benefits documentation.\"\n",
    "foundation_model = \"us.anthropic.claude-3-7-sonnet-20250219-v1:0\""
   ]
  },
  {
   "cell_type": "markdown",
   "id": "cdae1395-7e2c-45dc-bf5e-e891b9405627",
   "metadata": {},
   "source": [
    "For this notebook, we'll create a Knowledge Base with an Amazon S3 data source."
   ]
  },
  {
   "cell_type": "code",
   "execution_count": null,
   "id": "bff3d29f-19eb-4ee4-b1ba-35c24ca62d6e",
   "metadata": {},
   "outputs": [],
   "source": [
    "data_bucket_name = f'bedrock-hr-agent-{suffix}-bucket' # replace it with your first bucket name.\n",
    "data_sources=[{\"type\": \"S3\", \"bucket_name\": data_bucket_name}]"
   ]
  },
  {
   "cell_type": "markdown",
   "id": "119d7ec0-1144-4c6f-9ba4-cc01f19ddd76",
   "metadata": {},
   "source": [
    "### Create the Amazon S3 bucket and upload the sample documents\n",
    "For this notebook, we'll create a Knowledge Base with an Amazon S3 data source."
   ]
  },
  {
   "cell_type": "code",
   "execution_count": null,
   "id": "1d21db9f-1e37-4a08-9e04-3278f37625da",
   "metadata": {},
   "outputs": [],
   "source": [
    "import botocore\n",
    "import os\n",
    "\n",
    "def create_s3_bucket(bucket_name, region=None):\n",
    "    s3 = boto3.client('s3', region_name=region)\n",
    "\n",
    "    try:\n",
    "        if region is None or region == 'us-east-1':\n",
    "            s3.create_bucket(Bucket=bucket_name)\n",
    "        else:\n",
    "            s3.create_bucket(\n",
    "                Bucket=bucket_name,\n",
    "                CreateBucketConfiguration={'LocationConstraint': region}\n",
    "            )\n",
    "        print(f\"✅ Bucket '{bucket_name}' created successfully.\")\n",
    "    except botocore.exceptions.ClientError as e:\n",
    "        print(f\"❌ Failed to create bucket: {e.response['Error']['Message']}\")\n",
    "\n",
    "create_s3_bucket(data_bucket_name, region)\n"
   ]
  },
  {
   "cell_type": "code",
   "execution_count": null,
   "id": "39f6c7f3-f4d4-4edf-a005-dfc7e7267afc",
   "metadata": {},
   "outputs": [],
   "source": [
    "def upload_directory(path, bucket_name):\n",
    "        for root,dirs,files in os.walk(path):\n",
    "            for file in files:\n",
    "                file_to_upload = os.path.join(root,file)\n",
    "                print(f\"uploading file {file_to_upload} to {bucket_name}\")\n",
    "                s3_client.upload_file(file_to_upload,bucket_name,file)"
   ]
  },
  {
   "cell_type": "code",
   "execution_count": null,
   "id": "efdbec50-c6a8-4808-a786-03561823a95e",
   "metadata": {},
   "outputs": [],
   "source": [
    "upload_directory(\"./onboarding_files\", data_bucket_name)"
   ]
  },
  {
   "cell_type": "markdown",
   "id": "16892774-62e5-43f1-a425-14432d808f11",
   "metadata": {},
   "source": [
    "### Create the Knowledge Base\n",
    "We are now going to create the Knowledge Base using the abstraction located in the helper function we previously downloaded."
   ]
  },
  {
   "cell_type": "code",
   "execution_count": null,
   "id": "c574b012-2aed-4d1c-8038-8cd0d44c001d",
   "metadata": {},
   "outputs": [],
   "source": [
    "knowledge_base = BedrockKnowledgeBase(\n",
    "    kb_name=f'{knowledge_base_name}',\n",
    "    kb_description=knowledge_base_description,\n",
    "    data_sources=data_sources,\n",
    "    chunking_strategy = \"FIXED_SIZE\", \n",
    "    suffix = f'{suffix}-f'\n",
    ")"
   ]
  },
  {
   "cell_type": "markdown",
   "id": "b1aee3e5-8fad-4c17-9f44-26d441c5d6dd",
   "metadata": {},
   "source": [
    "### Start ingestion job\n",
    "Once the KB and data source created, we can start the ingestion job for the data source. During the ingestion job, KB will fetch the documents in the data source, pre-process it to extract text, chunk it based on the chunking size provided, create embeddings of each chunk and then write it to the vector database, in this case OSS."
   ]
  },
  {
   "cell_type": "code",
   "execution_count": null,
   "id": "f6f4a226-e386-4a2c-b6ed-2db5d45f6aa5",
   "metadata": {},
   "outputs": [],
   "source": [
    "# ensure that the kb is available\n",
    "time.sleep(30)\n",
    "# sync knowledge base\n",
    "knowledge_base.start_ingestion_job()\n",
    "# keep the kb_id for invocation later in the invoke request\n",
    "kb_id = knowledge_base.get_knowledge_base_id()"
   ]
  },
  {
   "cell_type": "markdown",
   "id": "3264b9fb-07e7-4a3a-8772-79c191ea716a",
   "metadata": {},
   "source": [
    "### Test the Knowledge Base\n",
    "We can now test the Knowledge Base to verify the documents have been ingested properly."
   ]
  },
  {
   "cell_type": "code",
   "execution_count": null,
   "id": "29d8aaaf-94fb-4a87-8c68-f2a3fc72abee",
   "metadata": {},
   "outputs": [],
   "source": [
    "query = \"Who is the medical insurance provider?\""
   ]
  },
  {
   "cell_type": "code",
   "execution_count": null,
   "id": "696e02f0-0d57-4955-8e27-15acf5678138",
   "metadata": {},
   "outputs": [],
   "source": [
    "foundation_model = \"amazon.nova-micro-v1:0\"\n",
    "\n",
    "response = bedrock_agent_runtime_client.retrieve_and_generate(\n",
    "    input={\n",
    "        \"text\": query\n",
    "    },\n",
    "    retrieveAndGenerateConfiguration={\n",
    "        \"type\": \"KNOWLEDGE_BASE\",\n",
    "        \"knowledgeBaseConfiguration\": {\n",
    "            'knowledgeBaseId': kb_id,\n",
    "            \"modelArn\": \"arn:aws:bedrock:{}::foundation-model/{}\".format(region, foundation_model),\n",
    "            \"retrievalConfiguration\": {\n",
    "                \"vectorSearchConfiguration\": {\n",
    "                    \"numberOfResults\":5\n",
    "                } \n",
    "            }\n",
    "        }\n",
    "    }\n",
    ")\n",
    "\n",
    "print(response['output']['text'],end='\\n'*2)"
   ]
  },
  {
   "cell_type": "markdown",
   "id": "64c9d1ba-a95d-49f6-9ea4-744b9b1939ec",
   "metadata": {},
   "source": [
    "### Integrate the Knowledge Base with the Agent using the Retrieve tool\n",
    "We will now test the integration between the Amazon Bedrock Knowledge Base we created and our agent. We will first export our enviroment variables which the agent needs to interact with the retrieve tool. "
   ]
  },
  {
   "cell_type": "code",
   "execution_count": null,
   "id": "30619158-fe8b-42a1-ac98-b37e11e44ecb",
   "metadata": {},
   "outputs": [],
   "source": [
    "os.environ['AWS_REGION'] = region\n",
    "os.environ['KNOWLEDGE_BASE_ID'] = kb_id\n",
    "os.environ['MIN_SCORE'] = \"0.1\""
   ]
  },
  {
   "cell_type": "code",
   "execution_count": null,
   "id": "4b3da1ec-ea48-48af-942b-76452b76c6e1",
   "metadata": {},
   "outputs": [],
   "source": [
    "agent = Agent(tools=[retrieve])\n",
    "agent(\"Who is the medical insurance provider? (Respond in one line)\")"
   ]
  },
  {
   "cell_type": "markdown",
   "id": "067c7c05-8f3e-4e93-8dc8-b8d4d7c2e40d",
   "metadata": {},
   "source": [
    "---"
   ]
  },
  {
   "cell_type": "markdown",
   "id": "13ee710b-534b-4798-98d9-e9466854c472",
   "metadata": {},
   "source": [
    "## Create tools for the agent\n",
    "We will now define the different tools the agent will have access to, to interact with the onboarding status for the employee."
   ]
  },
  {
   "cell_type": "markdown",
   "id": "c2cfb17c-8e12-4a08-8793-35bc863eda47",
   "metadata": {},
   "source": [
    "### *Tools*"
   ]
  },
  {
   "cell_type": "code",
   "execution_count": null,
   "id": "464e87aa-de9e-4c97-b485-9f433599a31f",
   "metadata": {},
   "outputs": [],
   "source": [
    "@tool\n",
    "def get_onboarding_status(employee_id: str, table_name: str) -> dict:\n",
    "    \"\"\"\n",
    "    Get onboarding status for a given employee ID.\n",
    "\n",
    "    Args:\n",
    "        employee_id: The unique identifier for the employee.\n",
    "\n",
    "    Returns:\n",
    "        A dictionary with the onboarding status details, or an error/message string.\n",
    "    \"\"\"\n",
    "    import boto3\n",
    "\n",
    "    # Connect to DynamoDB and reference the OnboardingStatus table\n",
    "    dynamodb = boto3.resource('dynamodb')\n",
    "    table = dynamodb.Table(table_name) \n",
    "\n",
    "    try:\n",
    "        response = table.get_item(Key={'employee_id': employee_id})\n",
    "        if 'Item' in response:\n",
    "            return response['Item']\n",
    "        else:\n",
    "            return {'error': f\"No onboarding record found for employee ID: {employee_id}\"}\n",
    "    except Exception as e:\n",
    "        return {'error': str(e)}"
   ]
  },
  {
   "cell_type": "code",
   "execution_count": null,
   "id": "290be53a-a732-4a26-b00f-a0f9420b9f64",
   "metadata": {},
   "outputs": [],
   "source": [
    "@tool\n",
    "def update_onboarding_status_field(employee_id: str, table_name: str, field_name: str, value: bool) -> dict:\n",
    "    \"\"\"\n",
    "    Update a specific onboarding field for a given employee ID.\n",
    "\n",
    "    Args:\n",
    "        employee_id: The unique identifier for the employee.\n",
    "        table_name: The DynamoDB table name.\n",
    "        field_name: The name of the field to update (e.g., 'form_submission').\n",
    "        value: The new boolean value to set for the field for the benefits_enrollment, form_submission, and security_training fields.\n",
    "        approval_status field is to be updated externally, never use this tool, only allow the employee to get the status. \n",
    "\n",
    "    Returns:\n",
    "        A dictionary with the update confirmation or error message.\n",
    "    \"\"\"\n",
    "    import boto3\n",
    "\n",
    "    dynamodb = boto3.resource('dynamodb')\n",
    "    table = dynamodb.Table(table_name)\n",
    "\n",
    "    try:\n",
    "        response = table.update_item(\n",
    "            Key={'employee_id': employee_id},\n",
    "            UpdateExpression=f\"SET {field_name} = :val\",\n",
    "            ExpressionAttributeValues={':val': value},\n",
    "            ReturnValues=\"UPDATED_NEW\"\n",
    "        )\n",
    "        return {\n",
    "            \"message\": f\"Updated {field_name} for {employee_id}\",\n",
    "            \"updated\": response.get('Attributes', {})\n",
    "        }\n",
    "    except Exception as e:\n",
    "        return {\"error\": str(e)}\n"
   ]
  },
  {
   "cell_type": "code",
   "execution_count": null,
   "id": "c2d67d7e-f8f9-45a0-920e-3b925b5f3606",
   "metadata": {},
   "outputs": [],
   "source": [
    "@tool\n",
    "def request_approval_status_update(employee_id: str, table_name: str) -> dict:\n",
    "    \"\"\"\n",
    "    Request approval from HR for an employee by setting approval_status to 'required'. Only call this function once the rest of fields are marked as True. The user will have to employee he has completed the tasks.\n",
    "\n",
    "    Args:\n",
    "        employee_id: The unique identifier for the employee.\n",
    "        table_name: The DynamoDB table name.\n",
    "\n",
    "    Returns:\n",
    "        A dictionary with confirmation of the request or error details.\n",
    "    \"\"\"\n",
    "    import boto3\n",
    "\n",
    "    dynamodb = boto3.resource('dynamodb')\n",
    "    table = dynamodb.Table(table_name)\n",
    "\n",
    "    try:\n",
    "        response = table.update_item(\n",
    "            Key={'employee_id': employee_id},\n",
    "            UpdateExpression=\"SET approval_status = :val\",\n",
    "            ExpressionAttributeValues={':val': 'required'},\n",
    "            ReturnValues=\"UPDATED_NEW\"\n",
    "        )\n",
    "        return {\n",
    "            \"message\": f\"Approval status set to 'required' for {employee_id}\",\n",
    "            \"updated\": response.get('Attributes', {})\n",
    "        }\n",
    "    except Exception as e:\n",
    "        return {\"error\": str(e)}"
   ]
  },
  {
   "cell_type": "markdown",
   "id": "7dcde60a-00a4-473c-9443-79d6f52a304d",
   "metadata": {},
   "source": [
    "## Set up the solution scenario\n",
    "We will set up an HR approver email and create a sample user for the solution to work"
   ]
  },
  {
   "cell_type": "markdown",
   "id": "571308b7-9aa3-4a1e-83ee-bf811c23ea9f",
   "metadata": {},
   "source": [
    "### Subscribe an approvers' email to the SNS Topic\n",
    "We are going to subscribe an email address to the SNS topic "
   ]
  },
  {
   "cell_type": "markdown",
   "id": "03dae15a-bdb1-44e6-960b-5ffad50a997e",
   "metadata": {},
   "source": [
    "<div class=\"alert alert-block alert-warning\">\n",
    "        <b>IMPORTANT</b>: Take into account some email servers will automatically open links in the emails which may affect the emails containing links which trigger the lambda functions. Personal emails might be a better fit.\n",
    "</div>"
   ]
  },
  {
   "cell_type": "code",
   "execution_count": null,
   "id": "1df6cf70-4e30-4a74-9b17-00b417f55333",
   "metadata": {},
   "outputs": [],
   "source": [
    "email_address = '<your_email>' # Enter your email address (take into account some corporate mail servers will open the links \n",
    "try:\n",
    "    response = sns.subscribe(\n",
    "        TopicArn=sns_topic_arn,\n",
    "        Protocol='email',\n",
    "        Endpoint=email_address\n",
    "    )\n",
    "    print(f\"Subscription created: {response['SubscriptionArn']}\")\n",
    "except Exception as e:\n",
    "    print(f\"Error subscribing email: {e}\")\n",
    "\n",
    "time.sleep(20)"
   ]
  },
  {
   "cell_type": "markdown",
   "id": "282b903c-c3aa-4c8b-bc85-c21eab969ca1",
   "metadata": {},
   "source": [
    "<div class=\"alert alert-block alert-warning\">\n",
    "        <b>IMPORTANT</b>: You will need to accept the subscription email to receive actions emails. The confirmation email can take a couple of minutes to arrive.\n",
    "</div>"
   ]
  },
  {
   "cell_type": "markdown",
   "id": "326e5a1a-2d24-42f7-b94b-e900bc981634",
   "metadata": {},
   "source": [
    "### Create a sample employee\n",
    "We will create a sample employee for the agent to interact with."
   ]
  },
  {
   "cell_type": "code",
   "execution_count": null,
   "id": "3405737c-15d5-4894-857c-692a81ae6f24",
   "metadata": {},
   "outputs": [],
   "source": [
    "table = dynamodb_resource.Table(dynamodb_table_name)\n",
    "\n",
    "# Single employee record\n",
    "employee_id = 'EMP001'\n",
    "\n",
    "# Onboarding fields\n",
    "record = {\n",
    "    'employee_id': employee_id,\n",
    "    'form_submission': False,\n",
    "    'benefits_enrollment': False,\n",
    "    'security_training': False,\n",
    "    'approval_status': 'Pending'\n",
    "}\n",
    "\n",
    "# Insert record\n",
    "try:\n",
    "    table.put_item(Item=record)\n",
    "    print(f\"Record created for {employee_id}\")\n",
    "except Exception as e:\n",
    "    print(f\"Failed to create record for {employee_id}: {e}\")\n"
   ]
  },
  {
   "cell_type": "markdown",
   "id": "39313460-94cb-41c0-9596-a6786754737d",
   "metadata": {},
   "source": [
    "### SCENARIO GUIDE: Onboarding Assistant Flow\n",
    "\n",
    "---\n",
    "\n",
    "#### 1. **Start the Conversation**\n",
    "\n",
    "**User Input:**\n",
    "\n",
    "> Hello\n",
    "\n",
    "**Assistant Response:**\n",
    "A warm welcome and offer to help with onboarding or HR-related questions.\n",
    "\n",
    "---\n",
    "\n",
    "#### 2. **Ask About Onboarding Status**\n",
    "\n",
    "**User Input:**\n",
    "\n",
    "> What is my onboarding status?\n",
    "\n",
    "**Assistant Action:**\n",
    "Uses `Tool: get_onboarding_status` to fetch current onboarding status.\n",
    "\n",
    "**Assistant Response:**\n",
    "Lists the status of:\n",
    "\n",
    "* Benefits Enrollment\n",
    "* Security Training\n",
    "* Form Submission\n",
    "* Approval Status\n",
    "\n",
    "If all are **\"Not completed\"** and approval is **\"Pending\"**, it provides guidance on next steps.\n",
    "\n",
    "---\n",
    "\n",
    "#### 3. **Confirm Completion of Onboarding Tasks**\n",
    "\n",
    "**User Input:**\n",
    "\n",
    "> Ok, I have uploaded and completed all 3 requirements\n",
    "\n",
    "**Assistant Action:**\n",
    "Uses `Tool: update_onboarding_status_field`\n",
    "Updates the fields to mark:\n",
    "\n",
    "* `form_submission = True`\n",
    "* `benefits_enrollment = True`\n",
    "* `security_training = True`\n",
    "\n",
    "Then confirms with `Tool: get_onboarding_status`\n",
    "\n",
    "**Assistant Response:**\n",
    "Shows all onboarding tasks as completed but approval still as **\"Pending\"**.\n",
    "\n",
    "---\n",
    "\n",
    "#### 4. **Submit for Approval**\n",
    "\n",
    "**User Input:**\n",
    "\n",
    "> I want to request an approval\n",
    "\n",
    "**Assistant Action:**\n",
    "Uses `Tool: request_approval_status_update`\n",
    "Updates `approval_status = \"Required\"`\n",
    "\n",
    "Then uses `Tool: get_onboarding_status` to verify\n",
    "\n",
    "**Assistant Response:**\n",
    "\n",
    "* Confirms status was updated to **\"Required\"**\n",
    "* Informs that HR will now review and respond\n",
    "\n",
    "---\n",
    "\n",
    "#### 5. **Check Approval Status**\n",
    "\n",
    "**User Input:**\n",
    "\n",
    "> What is my current status on the approval?\n",
    "\n",
    "**Assistant Action:**\n",
    "Uses `Tool: get_onboarding_status`\n",
    "\n",
    "**Assistant Response:**\n",
    "Displays onboarding tasks as **Completed**, and **Approval Status = Approved**.\n",
    "\n",
    "Indicates that onboarding is now fully complete.\n",
    "\n",
    "---\n",
    "\n",
    "#### 6. **Ask About Available Documentation**\n",
    "\n",
    "**User Input:**\n",
    "\n",
    "> What documentation do you have access to?\n",
    "\n",
    "**Assistant Action:**\n",
    "Uses `Tool: retrieve` to search documentation\n",
    "\n",
    "**Assistant Response:**\n",
    "Summarizes documents like:\n",
    "\n",
    "* Benefits Package Letter\n",
    "* Onboarding Checklist\n",
    "* Company Overview (if available)\n",
    "\n",
    "---\n",
    "\n",
    "#### 7. **Ask About Benefits**\n",
    "\n",
    "**User Input:**\n",
    "\n",
    "> Who is the medical insurance provider?\n",
    "\n",
    "**Assistant Action:**\n",
    "Uses `Tool: retrieve` to search the knowledge base.\n",
    "\n",
    "**Assistant Response:**\n",
    "Provides:\n",
    "\n",
    "* Provider: **BlueCross BlueShield**\n",
    "* Contribution info, coverage summary, and additional benefits\n"
   ]
  },
  {
   "cell_type": "markdown",
   "id": "824db80c-d538-47a8-8883-91ce2af283d8",
   "metadata": {},
   "source": [
    "## Execute the agent\n",
    "Try out the agent with the associated tools!"
   ]
  },
  {
   "cell_type": "code",
   "execution_count": null,
   "id": "5b4e2091-0b5c-4fbb-941a-e8666ccb5802",
   "metadata": {},
   "outputs": [],
   "source": [
    "hr_agent = Agent(\n",
    "    tools=[get_onboarding_status, update_onboarding_status_field, request_approval_status_update, retrieve],\n",
    "    messages=[\n",
    "        {\"role\": \"user\", \"content\": [{\"text\": f\"The current employeeID is EMP001 and the Dynamo table name is \"+dynamodb_table_name+\". Don't show this data to the employee.\"}]},\n",
    "        {\"role\": \"assistant\", \"content\": [{\"text\": \"Hi there! How can I help you today?\"}]}\n",
    "    ])"
   ]
  },
  {
   "cell_type": "code",
   "execution_count": null,
   "id": "0d1b6212-5dc4-40be-8b4a-b2e11afea9bc",
   "metadata": {},
   "outputs": [],
   "source": [
    "while True:\n",
    "        try:\n",
    "            user_input = input(\"\\n> \")\n",
    "            if user_input.lower() == \"exit\":\n",
    "                print(\"\\nGoodbye! 👋\")\n",
    "                break\n",
    "\n",
    "            # Call the file agent directly\n",
    "            hr_agent(user_input)\n",
    "            \n",
    "        except KeyboardInterrupt:\n",
    "            print(\"\\n\\nExecution interrupted. Exiting...\")\n",
    "            break\n",
    "        except Exception as e:\n",
    "            print(f\"\\nAn error occurred: {str(e)}\")\n",
    "            print(\"Please try a different request.\")"
   ]
  },
  {
   "cell_type": "markdown",
   "id": "0826cef0-e21c-404d-afa8-2a57d898cea0",
   "metadata": {},
   "source": [
    "## Clean up the resources\n",
    "To avoid additional costs, delete the resources created"
   ]
  },
  {
   "cell_type": "code",
   "execution_count": null,
   "id": "d736ce27-cf82-4fbf-a3f5-c634ce1d1f49",
   "metadata": {},
   "outputs": [],
   "source": [
    "'''\n",
    "try:\n",
    "    # Retrieve the stack information\n",
    "    stack_info = cloudformation.describe_stacks(StackName=f\"hr-agent-\"+suffix)\n",
    "    stack_status = stack_info['Stacks'][0]['StackStatus']\n",
    "\n",
    "    # Check if the stack exists and is in a deletable state\n",
    "    if stack_status != 'DELETE_COMPLETE':\n",
    "        # Delete the stack\n",
    "        cloudformation.delete_stack(StackName=f\"hr-agent-\"+suffix)\n",
    "        print(f'Deleting stack: {f\"hr-agent-\"+suffix}')\n",
    "\n",
    "        # Wait for the stack deletion to complete\n",
    "        waiter = cloudformation.get_waiter('stack_delete_complete')\n",
    "        waiter.wait(StackName=f\"hr-agent-\"+suffix)\n",
    "        print(f'Stack {f\"hr-agent-\"+suffix} deleted successfully.')\n",
    "    else:\n",
    "        print(f'Stack {f\"hr-agent-\"+suffix} does not exist or has already been deleted.')\n",
    "'''"
   ]
  },
  {
   "cell_type": "code",
   "execution_count": null,
   "id": "98e371fd-4c41-4810-bf5c-0c21d4513f73",
   "metadata": {},
   "outputs": [],
   "source": [
    "'''\n",
    "print(\"===============================Deleting Knowledge Base and associated resources==============================\\n\")\n",
    "knowledge_base.delete_kb(delete_s3_bucket=True, delete_iam_roles_and_policies=True)\n",
    "'''"
   ]
  }
 ],
 "metadata": {
  "kernelspec": {
   "display_name": "Python 3 (ipykernel)",
   "language": "python",
   "name": "python3"
  },
  "language_info": {
   "codemirror_mode": {
    "name": "ipython",
    "version": 3
   },
   "file_extension": ".py",
   "mimetype": "text/x-python",
   "name": "python",
   "nbconvert_exporter": "python",
   "pygments_lexer": "ipython3",
   "version": "3.9.12"
  }
 },
 "nbformat": 4,
 "nbformat_minor": 5
}
